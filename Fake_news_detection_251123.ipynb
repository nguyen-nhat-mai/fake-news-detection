{
  "cells": [
    {
      "cell_type": "markdown",
      "metadata": {
        "id": "fr694KcLQTCC"
      },
      "source": [
        "#**FAKE NEWS DETECTION**\n"
      ]
    },
    {
      "cell_type": "markdown",
      "source": [
        "## **1. Import & explore data**\n",
        "\n"
      ],
      "metadata": {
        "id": "8O604QwwWG_M"
      }
    },
    {
      "cell_type": "markdown",
      "source": [
        "###1.1 Import libaries & data"
      ],
      "metadata": {
        "id": "3W7Efl_rW8bt"
      }
    },
    {
      "cell_type": "code",
      "execution_count": 62,
      "metadata": {
        "colab": {
          "base_uri": "https://localhost:8080/"
        },
        "id": "Bgf_KOsYQRy8",
        "outputId": "943dd24d-02e5-4ce8-94a9-5ec2339a71d2"
      },
      "outputs": [
        {
          "output_type": "stream",
          "name": "stderr",
          "text": [
            "[nltk_data] Downloading package stopwords to /root/nltk_data...\n",
            "[nltk_data]   Package stopwords is already up-to-date!\n"
          ]
        },
        {
          "output_type": "stream",
          "name": "stdout",
          "text": [
            "Looking in indexes: https://pypi.org/simple, https://us-python.pkg.dev/colab-wheels/public/simple/\n",
            "Requirement already satisfied: contractions in /usr/local/lib/python3.8/dist-packages (0.1.73)\n",
            "Requirement already satisfied: textsearch>=0.0.21 in /usr/local/lib/python3.8/dist-packages (from contractions) (0.0.24)\n",
            "Requirement already satisfied: anyascii in /usr/local/lib/python3.8/dist-packages (from textsearch>=0.0.21->contractions) (0.3.1)\n",
            "Requirement already satisfied: pyahocorasick in /usr/local/lib/python3.8/dist-packages (from textsearch>=0.0.21->contractions) (2.0.0)\n",
            "Looking in indexes: https://pypi.org/simple, https://us-python.pkg.dev/colab-wheels/public/simple/\n",
            "Requirement already satisfied: scikit-learn-intelex in /usr/local/lib/python3.8/dist-packages (2023.0.1)\n",
            "Requirement already satisfied: scikit-learn>=0.22 in /usr/local/lib/python3.8/dist-packages (from scikit-learn-intelex) (1.0.2)\n",
            "Requirement already satisfied: daal4py==2023.0.1 in /usr/local/lib/python3.8/dist-packages (from scikit-learn-intelex) (2023.0.1)\n",
            "Requirement already satisfied: numpy>=1.15 in /usr/local/lib/python3.8/dist-packages (from daal4py==2023.0.1->scikit-learn-intelex) (1.21.6)\n",
            "Requirement already satisfied: daal==2023.0.1 in /usr/local/lib/python3.8/dist-packages (from daal4py==2023.0.1->scikit-learn-intelex) (2023.0.1)\n",
            "Requirement already satisfied: tbb==2021.* in /usr/local/lib/python3.8/dist-packages (from daal==2023.0.1->daal4py==2023.0.1->scikit-learn-intelex) (2021.8.0)\n",
            "Requirement already satisfied: joblib>=0.11 in /usr/local/lib/python3.8/dist-packages (from scikit-learn>=0.22->scikit-learn-intelex) (1.2.0)\n",
            "Requirement already satisfied: scipy>=1.1.0 in /usr/local/lib/python3.8/dist-packages (from scikit-learn>=0.22->scikit-learn-intelex) (1.7.3)\n",
            "Requirement already satisfied: threadpoolctl>=2.0.0 in /usr/local/lib/python3.8/dist-packages (from scikit-learn>=0.22->scikit-learn-intelex) (3.1.0)\n"
          ]
        },
        {
          "output_type": "stream",
          "name": "stderr",
          "text": [
            "Intel(R) Extension for Scikit-learn* enabled (https://github.com/intel/scikit-learn-intelex)\n"
          ]
        }
      ],
      "source": [
        "'''Upload your kaggle.json before running the code'''\n",
        "# Import libraries\n",
        "import pandas as pd\n",
        "import numpy as np\n",
        "import seaborn as sns\n",
        "import matplotlib.pyplot as plt\n",
        "import time\n",
        "import nltk\n",
        "from nltk.corpus import stopwords\n",
        "nltk.download('stopwords')\n",
        "from nltk.stem.snowball import SnowballStemmer\n",
        "from wordcloud import WordCloud\n",
        "!pip install contractions\n",
        "import contractions\n",
        "\n",
        "from sklearn.model_selection import train_test_split\n",
        "from sklearn.feature_extraction.text import TfidfVectorizer\n",
        "from sklearn.naive_bayes import BernoulliNB\n",
        "from sklearn.metrics import accuracy_score, confusion_matrix, classification_report, roc_auc_score, roc_curve,auc\n",
        "from sklearn.model_selection import GridSearchCV\n",
        "from sklearn.linear_model import LogisticRegression\n",
        "from sklearn.neighbors import KNeighborsClassifier\n",
        "from sklearn.tree import DecisionTreeClassifier\n",
        "!pip install scikit-learn-intelex\n",
        "from sklearnex import patch_sklearn \n",
        "patch_sklearn()\n",
        "from sklearn.svm import SVC"
      ]
    },
    {
      "cell_type": "code",
      "execution_count": 6,
      "metadata": {
        "colab": {
          "base_uri": "https://localhost:8080/"
        },
        "id": "IC3Kfy92nTEO",
        "outputId": "c4d6d027-602e-4140-ec5c-1dc266be4488"
      },
      "outputs": [
        {
          "output_type": "stream",
          "name": "stdout",
          "text": [
            "mkdir: cannot create directory ‘/root/.kaggle’: File exists\n",
            "Downloading fake-news.zip to /content\n",
            " 71% 33.0M/46.5M [00:00<00:00, 84.5MB/s]\n",
            "100% 46.5M/46.5M [00:00<00:00, 91.0MB/s]\n"
          ]
        }
      ],
      "source": [
        "# Import data from kaggle\n",
        "! mkdir ~/.kaggle\n",
        "! cp kaggle.json ~/.kaggle/\n",
        "! chmod 600 ~/.kaggle/kaggle.json\n",
        "! kaggle competitions download -c fake-news"
      ]
    },
    {
      "cell_type": "code",
      "execution_count": 7,
      "metadata": {
        "colab": {
          "base_uri": "https://localhost:8080/"
        },
        "id": "3V-3XFn0o9k7",
        "outputId": "de548d8a-4ff7-442c-f6e3-cd4f3c5ecd2c"
      },
      "outputs": [
        {
          "output_type": "stream",
          "name": "stdout",
          "text": [
            "Archive:  fake-news.zip\n",
            "  inflating: submit.csv              \n",
            "  inflating: test.csv                \n",
            "  inflating: train.csv               \n"
          ]
        }
      ],
      "source": [
        "# Unzip data\n",
        "! unzip fake-news.zip"
      ]
    },
    {
      "cell_type": "code",
      "execution_count": 8,
      "metadata": {
        "colab": {
          "base_uri": "https://localhost:8080/",
          "height": 206
        },
        "id": "UACPuOTUpI0G",
        "outputId": "9e6bcfce-d9f0-4057-874d-96c25fa963fa"
      },
      "outputs": [
        {
          "output_type": "execute_result",
          "data": {
            "text/plain": [
              "   id                                              title              author  \\\n",
              "0   0  House Dem Aide: We Didn’t Even See Comey’s Let...       Darrell Lucus   \n",
              "1   1  FLYNN: Hillary Clinton, Big Woman on Campus - ...     Daniel J. Flynn   \n",
              "2   2                  Why the Truth Might Get You Fired  Consortiumnews.com   \n",
              "3   3  15 Civilians Killed In Single US Airstrike Hav...     Jessica Purkiss   \n",
              "4   4  Iranian woman jailed for fictional unpublished...      Howard Portnoy   \n",
              "\n",
              "                                                text  label  \n",
              "0  House Dem Aide: We Didn’t Even See Comey’s Let...      1  \n",
              "1  Ever get the feeling your life circles the rou...      0  \n",
              "2  Why the Truth Might Get You Fired October 29, ...      1  \n",
              "3  Videos 15 Civilians Killed In Single US Airstr...      1  \n",
              "4  Print \\nAn Iranian woman has been sentenced to...      1  "
            ],
            "text/html": [
              "\n",
              "  <div id=\"df-bb1295b4-c6eb-4dc3-8f55-c2c1541dc8b2\">\n",
              "    <div class=\"colab-df-container\">\n",
              "      <div>\n",
              "<style scoped>\n",
              "    .dataframe tbody tr th:only-of-type {\n",
              "        vertical-align: middle;\n",
              "    }\n",
              "\n",
              "    .dataframe tbody tr th {\n",
              "        vertical-align: top;\n",
              "    }\n",
              "\n",
              "    .dataframe thead th {\n",
              "        text-align: right;\n",
              "    }\n",
              "</style>\n",
              "<table border=\"1\" class=\"dataframe\">\n",
              "  <thead>\n",
              "    <tr style=\"text-align: right;\">\n",
              "      <th></th>\n",
              "      <th>id</th>\n",
              "      <th>title</th>\n",
              "      <th>author</th>\n",
              "      <th>text</th>\n",
              "      <th>label</th>\n",
              "    </tr>\n",
              "  </thead>\n",
              "  <tbody>\n",
              "    <tr>\n",
              "      <th>0</th>\n",
              "      <td>0</td>\n",
              "      <td>House Dem Aide: We Didn’t Even See Comey’s Let...</td>\n",
              "      <td>Darrell Lucus</td>\n",
              "      <td>House Dem Aide: We Didn’t Even See Comey’s Let...</td>\n",
              "      <td>1</td>\n",
              "    </tr>\n",
              "    <tr>\n",
              "      <th>1</th>\n",
              "      <td>1</td>\n",
              "      <td>FLYNN: Hillary Clinton, Big Woman on Campus - ...</td>\n",
              "      <td>Daniel J. Flynn</td>\n",
              "      <td>Ever get the feeling your life circles the rou...</td>\n",
              "      <td>0</td>\n",
              "    </tr>\n",
              "    <tr>\n",
              "      <th>2</th>\n",
              "      <td>2</td>\n",
              "      <td>Why the Truth Might Get You Fired</td>\n",
              "      <td>Consortiumnews.com</td>\n",
              "      <td>Why the Truth Might Get You Fired October 29, ...</td>\n",
              "      <td>1</td>\n",
              "    </tr>\n",
              "    <tr>\n",
              "      <th>3</th>\n",
              "      <td>3</td>\n",
              "      <td>15 Civilians Killed In Single US Airstrike Hav...</td>\n",
              "      <td>Jessica Purkiss</td>\n",
              "      <td>Videos 15 Civilians Killed In Single US Airstr...</td>\n",
              "      <td>1</td>\n",
              "    </tr>\n",
              "    <tr>\n",
              "      <th>4</th>\n",
              "      <td>4</td>\n",
              "      <td>Iranian woman jailed for fictional unpublished...</td>\n",
              "      <td>Howard Portnoy</td>\n",
              "      <td>Print \\nAn Iranian woman has been sentenced to...</td>\n",
              "      <td>1</td>\n",
              "    </tr>\n",
              "  </tbody>\n",
              "</table>\n",
              "</div>\n",
              "      <button class=\"colab-df-convert\" onclick=\"convertToInteractive('df-bb1295b4-c6eb-4dc3-8f55-c2c1541dc8b2')\"\n",
              "              title=\"Convert this dataframe to an interactive table.\"\n",
              "              style=\"display:none;\">\n",
              "        \n",
              "  <svg xmlns=\"http://www.w3.org/2000/svg\" height=\"24px\"viewBox=\"0 0 24 24\"\n",
              "       width=\"24px\">\n",
              "    <path d=\"M0 0h24v24H0V0z\" fill=\"none\"/>\n",
              "    <path d=\"M18.56 5.44l.94 2.06.94-2.06 2.06-.94-2.06-.94-.94-2.06-.94 2.06-2.06.94zm-11 1L8.5 8.5l.94-2.06 2.06-.94-2.06-.94L8.5 2.5l-.94 2.06-2.06.94zm10 10l.94 2.06.94-2.06 2.06-.94-2.06-.94-.94-2.06-.94 2.06-2.06.94z\"/><path d=\"M17.41 7.96l-1.37-1.37c-.4-.4-.92-.59-1.43-.59-.52 0-1.04.2-1.43.59L10.3 9.45l-7.72 7.72c-.78.78-.78 2.05 0 2.83L4 21.41c.39.39.9.59 1.41.59.51 0 1.02-.2 1.41-.59l7.78-7.78 2.81-2.81c.8-.78.8-2.07 0-2.86zM5.41 20L4 18.59l7.72-7.72 1.47 1.35L5.41 20z\"/>\n",
              "  </svg>\n",
              "      </button>\n",
              "      \n",
              "  <style>\n",
              "    .colab-df-container {\n",
              "      display:flex;\n",
              "      flex-wrap:wrap;\n",
              "      gap: 12px;\n",
              "    }\n",
              "\n",
              "    .colab-df-convert {\n",
              "      background-color: #E8F0FE;\n",
              "      border: none;\n",
              "      border-radius: 50%;\n",
              "      cursor: pointer;\n",
              "      display: none;\n",
              "      fill: #1967D2;\n",
              "      height: 32px;\n",
              "      padding: 0 0 0 0;\n",
              "      width: 32px;\n",
              "    }\n",
              "\n",
              "    .colab-df-convert:hover {\n",
              "      background-color: #E2EBFA;\n",
              "      box-shadow: 0px 1px 2px rgba(60, 64, 67, 0.3), 0px 1px 3px 1px rgba(60, 64, 67, 0.15);\n",
              "      fill: #174EA6;\n",
              "    }\n",
              "\n",
              "    [theme=dark] .colab-df-convert {\n",
              "      background-color: #3B4455;\n",
              "      fill: #D2E3FC;\n",
              "    }\n",
              "\n",
              "    [theme=dark] .colab-df-convert:hover {\n",
              "      background-color: #434B5C;\n",
              "      box-shadow: 0px 1px 3px 1px rgba(0, 0, 0, 0.15);\n",
              "      filter: drop-shadow(0px 1px 2px rgba(0, 0, 0, 0.3));\n",
              "      fill: #FFFFFF;\n",
              "    }\n",
              "  </style>\n",
              "\n",
              "      <script>\n",
              "        const buttonEl =\n",
              "          document.querySelector('#df-bb1295b4-c6eb-4dc3-8f55-c2c1541dc8b2 button.colab-df-convert');\n",
              "        buttonEl.style.display =\n",
              "          google.colab.kernel.accessAllowed ? 'block' : 'none';\n",
              "\n",
              "        async function convertToInteractive(key) {\n",
              "          const element = document.querySelector('#df-bb1295b4-c6eb-4dc3-8f55-c2c1541dc8b2');\n",
              "          const dataTable =\n",
              "            await google.colab.kernel.invokeFunction('convertToInteractive',\n",
              "                                                     [key], {});\n",
              "          if (!dataTable) return;\n",
              "\n",
              "          const docLinkHtml = 'Like what you see? Visit the ' +\n",
              "            '<a target=\"_blank\" href=https://colab.research.google.com/notebooks/data_table.ipynb>data table notebook</a>'\n",
              "            + ' to learn more about interactive tables.';\n",
              "          element.innerHTML = '';\n",
              "          dataTable['output_type'] = 'display_data';\n",
              "          await google.colab.output.renderOutput(dataTable, element);\n",
              "          const docLink = document.createElement('div');\n",
              "          docLink.innerHTML = docLinkHtml;\n",
              "          element.appendChild(docLink);\n",
              "        }\n",
              "      </script>\n",
              "    </div>\n",
              "  </div>\n",
              "  "
            ]
          },
          "metadata": {},
          "execution_count": 8
        }
      ],
      "source": [
        "# Import training data\n",
        "train_data = pd.read_csv('train.csv')\n",
        "train_data.head()"
      ]
    },
    {
      "cell_type": "code",
      "execution_count": 9,
      "metadata": {
        "colab": {
          "base_uri": "https://localhost:8080/",
          "height": 206
        },
        "id": "rAATzXLkpZdI",
        "outputId": "758d6a83-0aed-445a-ba44-a6583fed57ea"
      },
      "outputs": [
        {
          "output_type": "execute_result",
          "data": {
            "text/plain": [
              "      id                                              title  \\\n",
              "0  20800  Specter of Trump Loosens Tongues, if Not Purse...   \n",
              "1  20801  Russian warships ready to strike terrorists ne...   \n",
              "2  20802  #NoDAPL: Native American Leaders Vow to Stay A...   \n",
              "3  20803  Tim Tebow Will Attempt Another Comeback, This ...   \n",
              "4  20804                    Keiser Report: Meme Wars (E995)   \n",
              "\n",
              "                    author                                               text  \n",
              "0         David Streitfeld  PALO ALTO, Calif.  —   After years of scorning...  \n",
              "1                      NaN  Russian warships ready to strike terrorists ne...  \n",
              "2            Common Dreams  Videos #NoDAPL: Native American Leaders Vow to...  \n",
              "3            Daniel Victor  If at first you don’t succeed, try a different...  \n",
              "4  Truth Broadcast Network  42 mins ago 1 Views 0 Comments 0 Likes 'For th...  "
            ],
            "text/html": [
              "\n",
              "  <div id=\"df-50a4d45b-da18-47e6-af9b-c36919ab868e\">\n",
              "    <div class=\"colab-df-container\">\n",
              "      <div>\n",
              "<style scoped>\n",
              "    .dataframe tbody tr th:only-of-type {\n",
              "        vertical-align: middle;\n",
              "    }\n",
              "\n",
              "    .dataframe tbody tr th {\n",
              "        vertical-align: top;\n",
              "    }\n",
              "\n",
              "    .dataframe thead th {\n",
              "        text-align: right;\n",
              "    }\n",
              "</style>\n",
              "<table border=\"1\" class=\"dataframe\">\n",
              "  <thead>\n",
              "    <tr style=\"text-align: right;\">\n",
              "      <th></th>\n",
              "      <th>id</th>\n",
              "      <th>title</th>\n",
              "      <th>author</th>\n",
              "      <th>text</th>\n",
              "    </tr>\n",
              "  </thead>\n",
              "  <tbody>\n",
              "    <tr>\n",
              "      <th>0</th>\n",
              "      <td>20800</td>\n",
              "      <td>Specter of Trump Loosens Tongues, if Not Purse...</td>\n",
              "      <td>David Streitfeld</td>\n",
              "      <td>PALO ALTO, Calif.  —   After years of scorning...</td>\n",
              "    </tr>\n",
              "    <tr>\n",
              "      <th>1</th>\n",
              "      <td>20801</td>\n",
              "      <td>Russian warships ready to strike terrorists ne...</td>\n",
              "      <td>NaN</td>\n",
              "      <td>Russian warships ready to strike terrorists ne...</td>\n",
              "    </tr>\n",
              "    <tr>\n",
              "      <th>2</th>\n",
              "      <td>20802</td>\n",
              "      <td>#NoDAPL: Native American Leaders Vow to Stay A...</td>\n",
              "      <td>Common Dreams</td>\n",
              "      <td>Videos #NoDAPL: Native American Leaders Vow to...</td>\n",
              "    </tr>\n",
              "    <tr>\n",
              "      <th>3</th>\n",
              "      <td>20803</td>\n",
              "      <td>Tim Tebow Will Attempt Another Comeback, This ...</td>\n",
              "      <td>Daniel Victor</td>\n",
              "      <td>If at first you don’t succeed, try a different...</td>\n",
              "    </tr>\n",
              "    <tr>\n",
              "      <th>4</th>\n",
              "      <td>20804</td>\n",
              "      <td>Keiser Report: Meme Wars (E995)</td>\n",
              "      <td>Truth Broadcast Network</td>\n",
              "      <td>42 mins ago 1 Views 0 Comments 0 Likes 'For th...</td>\n",
              "    </tr>\n",
              "  </tbody>\n",
              "</table>\n",
              "</div>\n",
              "      <button class=\"colab-df-convert\" onclick=\"convertToInteractive('df-50a4d45b-da18-47e6-af9b-c36919ab868e')\"\n",
              "              title=\"Convert this dataframe to an interactive table.\"\n",
              "              style=\"display:none;\">\n",
              "        \n",
              "  <svg xmlns=\"http://www.w3.org/2000/svg\" height=\"24px\"viewBox=\"0 0 24 24\"\n",
              "       width=\"24px\">\n",
              "    <path d=\"M0 0h24v24H0V0z\" fill=\"none\"/>\n",
              "    <path d=\"M18.56 5.44l.94 2.06.94-2.06 2.06-.94-2.06-.94-.94-2.06-.94 2.06-2.06.94zm-11 1L8.5 8.5l.94-2.06 2.06-.94-2.06-.94L8.5 2.5l-.94 2.06-2.06.94zm10 10l.94 2.06.94-2.06 2.06-.94-2.06-.94-.94-2.06-.94 2.06-2.06.94z\"/><path d=\"M17.41 7.96l-1.37-1.37c-.4-.4-.92-.59-1.43-.59-.52 0-1.04.2-1.43.59L10.3 9.45l-7.72 7.72c-.78.78-.78 2.05 0 2.83L4 21.41c.39.39.9.59 1.41.59.51 0 1.02-.2 1.41-.59l7.78-7.78 2.81-2.81c.8-.78.8-2.07 0-2.86zM5.41 20L4 18.59l7.72-7.72 1.47 1.35L5.41 20z\"/>\n",
              "  </svg>\n",
              "      </button>\n",
              "      \n",
              "  <style>\n",
              "    .colab-df-container {\n",
              "      display:flex;\n",
              "      flex-wrap:wrap;\n",
              "      gap: 12px;\n",
              "    }\n",
              "\n",
              "    .colab-df-convert {\n",
              "      background-color: #E8F0FE;\n",
              "      border: none;\n",
              "      border-radius: 50%;\n",
              "      cursor: pointer;\n",
              "      display: none;\n",
              "      fill: #1967D2;\n",
              "      height: 32px;\n",
              "      padding: 0 0 0 0;\n",
              "      width: 32px;\n",
              "    }\n",
              "\n",
              "    .colab-df-convert:hover {\n",
              "      background-color: #E2EBFA;\n",
              "      box-shadow: 0px 1px 2px rgba(60, 64, 67, 0.3), 0px 1px 3px 1px rgba(60, 64, 67, 0.15);\n",
              "      fill: #174EA6;\n",
              "    }\n",
              "\n",
              "    [theme=dark] .colab-df-convert {\n",
              "      background-color: #3B4455;\n",
              "      fill: #D2E3FC;\n",
              "    }\n",
              "\n",
              "    [theme=dark] .colab-df-convert:hover {\n",
              "      background-color: #434B5C;\n",
              "      box-shadow: 0px 1px 3px 1px rgba(0, 0, 0, 0.15);\n",
              "      filter: drop-shadow(0px 1px 2px rgba(0, 0, 0, 0.3));\n",
              "      fill: #FFFFFF;\n",
              "    }\n",
              "  </style>\n",
              "\n",
              "      <script>\n",
              "        const buttonEl =\n",
              "          document.querySelector('#df-50a4d45b-da18-47e6-af9b-c36919ab868e button.colab-df-convert');\n",
              "        buttonEl.style.display =\n",
              "          google.colab.kernel.accessAllowed ? 'block' : 'none';\n",
              "\n",
              "        async function convertToInteractive(key) {\n",
              "          const element = document.querySelector('#df-50a4d45b-da18-47e6-af9b-c36919ab868e');\n",
              "          const dataTable =\n",
              "            await google.colab.kernel.invokeFunction('convertToInteractive',\n",
              "                                                     [key], {});\n",
              "          if (!dataTable) return;\n",
              "\n",
              "          const docLinkHtml = 'Like what you see? Visit the ' +\n",
              "            '<a target=\"_blank\" href=https://colab.research.google.com/notebooks/data_table.ipynb>data table notebook</a>'\n",
              "            + ' to learn more about interactive tables.';\n",
              "          element.innerHTML = '';\n",
              "          dataTable['output_type'] = 'display_data';\n",
              "          await google.colab.output.renderOutput(dataTable, element);\n",
              "          const docLink = document.createElement('div');\n",
              "          docLink.innerHTML = docLinkHtml;\n",
              "          element.appendChild(docLink);\n",
              "        }\n",
              "      </script>\n",
              "    </div>\n",
              "  </div>\n",
              "  "
            ]
          },
          "metadata": {},
          "execution_count": 9
        }
      ],
      "source": [
        "# Import test data (without labels)\n",
        "test_data = pd.read_csv('test.csv')\n",
        "test_data.head()"
      ]
    },
    {
      "cell_type": "code",
      "execution_count": 10,
      "metadata": {
        "colab": {
          "base_uri": "https://localhost:8080/",
          "height": 206
        },
        "id": "4pg7tK8rO3eO",
        "outputId": "7c095f53-b968-4d71-fc46-db6480f13b6d"
      },
      "outputs": [
        {
          "output_type": "execute_result",
          "data": {
            "text/plain": [
              "      id  label\n",
              "0  20800      0\n",
              "1  20801      1\n",
              "2  20802      0\n",
              "3  20803      1\n",
              "4  20804      1"
            ],
            "text/html": [
              "\n",
              "  <div id=\"df-0cdb2868-f4ae-496b-986e-263e32fa30e5\">\n",
              "    <div class=\"colab-df-container\">\n",
              "      <div>\n",
              "<style scoped>\n",
              "    .dataframe tbody tr th:only-of-type {\n",
              "        vertical-align: middle;\n",
              "    }\n",
              "\n",
              "    .dataframe tbody tr th {\n",
              "        vertical-align: top;\n",
              "    }\n",
              "\n",
              "    .dataframe thead th {\n",
              "        text-align: right;\n",
              "    }\n",
              "</style>\n",
              "<table border=\"1\" class=\"dataframe\">\n",
              "  <thead>\n",
              "    <tr style=\"text-align: right;\">\n",
              "      <th></th>\n",
              "      <th>id</th>\n",
              "      <th>label</th>\n",
              "    </tr>\n",
              "  </thead>\n",
              "  <tbody>\n",
              "    <tr>\n",
              "      <th>0</th>\n",
              "      <td>20800</td>\n",
              "      <td>0</td>\n",
              "    </tr>\n",
              "    <tr>\n",
              "      <th>1</th>\n",
              "      <td>20801</td>\n",
              "      <td>1</td>\n",
              "    </tr>\n",
              "    <tr>\n",
              "      <th>2</th>\n",
              "      <td>20802</td>\n",
              "      <td>0</td>\n",
              "    </tr>\n",
              "    <tr>\n",
              "      <th>3</th>\n",
              "      <td>20803</td>\n",
              "      <td>1</td>\n",
              "    </tr>\n",
              "    <tr>\n",
              "      <th>4</th>\n",
              "      <td>20804</td>\n",
              "      <td>1</td>\n",
              "    </tr>\n",
              "  </tbody>\n",
              "</table>\n",
              "</div>\n",
              "      <button class=\"colab-df-convert\" onclick=\"convertToInteractive('df-0cdb2868-f4ae-496b-986e-263e32fa30e5')\"\n",
              "              title=\"Convert this dataframe to an interactive table.\"\n",
              "              style=\"display:none;\">\n",
              "        \n",
              "  <svg xmlns=\"http://www.w3.org/2000/svg\" height=\"24px\"viewBox=\"0 0 24 24\"\n",
              "       width=\"24px\">\n",
              "    <path d=\"M0 0h24v24H0V0z\" fill=\"none\"/>\n",
              "    <path d=\"M18.56 5.44l.94 2.06.94-2.06 2.06-.94-2.06-.94-.94-2.06-.94 2.06-2.06.94zm-11 1L8.5 8.5l.94-2.06 2.06-.94-2.06-.94L8.5 2.5l-.94 2.06-2.06.94zm10 10l.94 2.06.94-2.06 2.06-.94-2.06-.94-.94-2.06-.94 2.06-2.06.94z\"/><path d=\"M17.41 7.96l-1.37-1.37c-.4-.4-.92-.59-1.43-.59-.52 0-1.04.2-1.43.59L10.3 9.45l-7.72 7.72c-.78.78-.78 2.05 0 2.83L4 21.41c.39.39.9.59 1.41.59.51 0 1.02-.2 1.41-.59l7.78-7.78 2.81-2.81c.8-.78.8-2.07 0-2.86zM5.41 20L4 18.59l7.72-7.72 1.47 1.35L5.41 20z\"/>\n",
              "  </svg>\n",
              "      </button>\n",
              "      \n",
              "  <style>\n",
              "    .colab-df-container {\n",
              "      display:flex;\n",
              "      flex-wrap:wrap;\n",
              "      gap: 12px;\n",
              "    }\n",
              "\n",
              "    .colab-df-convert {\n",
              "      background-color: #E8F0FE;\n",
              "      border: none;\n",
              "      border-radius: 50%;\n",
              "      cursor: pointer;\n",
              "      display: none;\n",
              "      fill: #1967D2;\n",
              "      height: 32px;\n",
              "      padding: 0 0 0 0;\n",
              "      width: 32px;\n",
              "    }\n",
              "\n",
              "    .colab-df-convert:hover {\n",
              "      background-color: #E2EBFA;\n",
              "      box-shadow: 0px 1px 2px rgba(60, 64, 67, 0.3), 0px 1px 3px 1px rgba(60, 64, 67, 0.15);\n",
              "      fill: #174EA6;\n",
              "    }\n",
              "\n",
              "    [theme=dark] .colab-df-convert {\n",
              "      background-color: #3B4455;\n",
              "      fill: #D2E3FC;\n",
              "    }\n",
              "\n",
              "    [theme=dark] .colab-df-convert:hover {\n",
              "      background-color: #434B5C;\n",
              "      box-shadow: 0px 1px 3px 1px rgba(0, 0, 0, 0.15);\n",
              "      filter: drop-shadow(0px 1px 2px rgba(0, 0, 0, 0.3));\n",
              "      fill: #FFFFFF;\n",
              "    }\n",
              "  </style>\n",
              "\n",
              "      <script>\n",
              "        const buttonEl =\n",
              "          document.querySelector('#df-0cdb2868-f4ae-496b-986e-263e32fa30e5 button.colab-df-convert');\n",
              "        buttonEl.style.display =\n",
              "          google.colab.kernel.accessAllowed ? 'block' : 'none';\n",
              "\n",
              "        async function convertToInteractive(key) {\n",
              "          const element = document.querySelector('#df-0cdb2868-f4ae-496b-986e-263e32fa30e5');\n",
              "          const dataTable =\n",
              "            await google.colab.kernel.invokeFunction('convertToInteractive',\n",
              "                                                     [key], {});\n",
              "          if (!dataTable) return;\n",
              "\n",
              "          const docLinkHtml = 'Like what you see? Visit the ' +\n",
              "            '<a target=\"_blank\" href=https://colab.research.google.com/notebooks/data_table.ipynb>data table notebook</a>'\n",
              "            + ' to learn more about interactive tables.';\n",
              "          element.innerHTML = '';\n",
              "          dataTable['output_type'] = 'display_data';\n",
              "          await google.colab.output.renderOutput(dataTable, element);\n",
              "          const docLink = document.createElement('div');\n",
              "          docLink.innerHTML = docLinkHtml;\n",
              "          element.appendChild(docLink);\n",
              "        }\n",
              "      </script>\n",
              "    </div>\n",
              "  </div>\n",
              "  "
            ]
          },
          "metadata": {},
          "execution_count": 10
        }
      ],
      "source": [
        "# Import labels of test data\n",
        "label_data = pd.read_csv('submit.csv')\n",
        "label_data.head()"
      ]
    },
    {
      "cell_type": "code",
      "execution_count": 11,
      "metadata": {
        "colab": {
          "base_uri": "https://localhost:8080/",
          "height": 206
        },
        "id": "8nfa3kU5O_SV",
        "outputId": "efc7646e-bbea-4503-a8f2-e43c543e76c3"
      },
      "outputs": [
        {
          "output_type": "execute_result",
          "data": {
            "text/plain": [
              "      id                                              title  \\\n",
              "0  20800  Specter of Trump Loosens Tongues, if Not Purse...   \n",
              "1  20801  Russian warships ready to strike terrorists ne...   \n",
              "2  20802  #NoDAPL: Native American Leaders Vow to Stay A...   \n",
              "3  20803  Tim Tebow Will Attempt Another Comeback, This ...   \n",
              "4  20804                    Keiser Report: Meme Wars (E995)   \n",
              "\n",
              "                    author                                               text  \\\n",
              "0         David Streitfeld  PALO ALTO, Calif.  —   After years of scorning...   \n",
              "1                      NaN  Russian warships ready to strike terrorists ne...   \n",
              "2            Common Dreams  Videos #NoDAPL: Native American Leaders Vow to...   \n",
              "3            Daniel Victor  If at first you don’t succeed, try a different...   \n",
              "4  Truth Broadcast Network  42 mins ago 1 Views 0 Comments 0 Likes 'For th...   \n",
              "\n",
              "   label  \n",
              "0      0  \n",
              "1      1  \n",
              "2      0  \n",
              "3      1  \n",
              "4      1  "
            ],
            "text/html": [
              "\n",
              "  <div id=\"df-935f9c08-f27d-4606-bdbe-1f1977c1e8b9\">\n",
              "    <div class=\"colab-df-container\">\n",
              "      <div>\n",
              "<style scoped>\n",
              "    .dataframe tbody tr th:only-of-type {\n",
              "        vertical-align: middle;\n",
              "    }\n",
              "\n",
              "    .dataframe tbody tr th {\n",
              "        vertical-align: top;\n",
              "    }\n",
              "\n",
              "    .dataframe thead th {\n",
              "        text-align: right;\n",
              "    }\n",
              "</style>\n",
              "<table border=\"1\" class=\"dataframe\">\n",
              "  <thead>\n",
              "    <tr style=\"text-align: right;\">\n",
              "      <th></th>\n",
              "      <th>id</th>\n",
              "      <th>title</th>\n",
              "      <th>author</th>\n",
              "      <th>text</th>\n",
              "      <th>label</th>\n",
              "    </tr>\n",
              "  </thead>\n",
              "  <tbody>\n",
              "    <tr>\n",
              "      <th>0</th>\n",
              "      <td>20800</td>\n",
              "      <td>Specter of Trump Loosens Tongues, if Not Purse...</td>\n",
              "      <td>David Streitfeld</td>\n",
              "      <td>PALO ALTO, Calif.  —   After years of scorning...</td>\n",
              "      <td>0</td>\n",
              "    </tr>\n",
              "    <tr>\n",
              "      <th>1</th>\n",
              "      <td>20801</td>\n",
              "      <td>Russian warships ready to strike terrorists ne...</td>\n",
              "      <td>NaN</td>\n",
              "      <td>Russian warships ready to strike terrorists ne...</td>\n",
              "      <td>1</td>\n",
              "    </tr>\n",
              "    <tr>\n",
              "      <th>2</th>\n",
              "      <td>20802</td>\n",
              "      <td>#NoDAPL: Native American Leaders Vow to Stay A...</td>\n",
              "      <td>Common Dreams</td>\n",
              "      <td>Videos #NoDAPL: Native American Leaders Vow to...</td>\n",
              "      <td>0</td>\n",
              "    </tr>\n",
              "    <tr>\n",
              "      <th>3</th>\n",
              "      <td>20803</td>\n",
              "      <td>Tim Tebow Will Attempt Another Comeback, This ...</td>\n",
              "      <td>Daniel Victor</td>\n",
              "      <td>If at first you don’t succeed, try a different...</td>\n",
              "      <td>1</td>\n",
              "    </tr>\n",
              "    <tr>\n",
              "      <th>4</th>\n",
              "      <td>20804</td>\n",
              "      <td>Keiser Report: Meme Wars (E995)</td>\n",
              "      <td>Truth Broadcast Network</td>\n",
              "      <td>42 mins ago 1 Views 0 Comments 0 Likes 'For th...</td>\n",
              "      <td>1</td>\n",
              "    </tr>\n",
              "  </tbody>\n",
              "</table>\n",
              "</div>\n",
              "      <button class=\"colab-df-convert\" onclick=\"convertToInteractive('df-935f9c08-f27d-4606-bdbe-1f1977c1e8b9')\"\n",
              "              title=\"Convert this dataframe to an interactive table.\"\n",
              "              style=\"display:none;\">\n",
              "        \n",
              "  <svg xmlns=\"http://www.w3.org/2000/svg\" height=\"24px\"viewBox=\"0 0 24 24\"\n",
              "       width=\"24px\">\n",
              "    <path d=\"M0 0h24v24H0V0z\" fill=\"none\"/>\n",
              "    <path d=\"M18.56 5.44l.94 2.06.94-2.06 2.06-.94-2.06-.94-.94-2.06-.94 2.06-2.06.94zm-11 1L8.5 8.5l.94-2.06 2.06-.94-2.06-.94L8.5 2.5l-.94 2.06-2.06.94zm10 10l.94 2.06.94-2.06 2.06-.94-2.06-.94-.94-2.06-.94 2.06-2.06.94z\"/><path d=\"M17.41 7.96l-1.37-1.37c-.4-.4-.92-.59-1.43-.59-.52 0-1.04.2-1.43.59L10.3 9.45l-7.72 7.72c-.78.78-.78 2.05 0 2.83L4 21.41c.39.39.9.59 1.41.59.51 0 1.02-.2 1.41-.59l7.78-7.78 2.81-2.81c.8-.78.8-2.07 0-2.86zM5.41 20L4 18.59l7.72-7.72 1.47 1.35L5.41 20z\"/>\n",
              "  </svg>\n",
              "      </button>\n",
              "      \n",
              "  <style>\n",
              "    .colab-df-container {\n",
              "      display:flex;\n",
              "      flex-wrap:wrap;\n",
              "      gap: 12px;\n",
              "    }\n",
              "\n",
              "    .colab-df-convert {\n",
              "      background-color: #E8F0FE;\n",
              "      border: none;\n",
              "      border-radius: 50%;\n",
              "      cursor: pointer;\n",
              "      display: none;\n",
              "      fill: #1967D2;\n",
              "      height: 32px;\n",
              "      padding: 0 0 0 0;\n",
              "      width: 32px;\n",
              "    }\n",
              "\n",
              "    .colab-df-convert:hover {\n",
              "      background-color: #E2EBFA;\n",
              "      box-shadow: 0px 1px 2px rgba(60, 64, 67, 0.3), 0px 1px 3px 1px rgba(60, 64, 67, 0.15);\n",
              "      fill: #174EA6;\n",
              "    }\n",
              "\n",
              "    [theme=dark] .colab-df-convert {\n",
              "      background-color: #3B4455;\n",
              "      fill: #D2E3FC;\n",
              "    }\n",
              "\n",
              "    [theme=dark] .colab-df-convert:hover {\n",
              "      background-color: #434B5C;\n",
              "      box-shadow: 0px 1px 3px 1px rgba(0, 0, 0, 0.15);\n",
              "      filter: drop-shadow(0px 1px 2px rgba(0, 0, 0, 0.3));\n",
              "      fill: #FFFFFF;\n",
              "    }\n",
              "  </style>\n",
              "\n",
              "      <script>\n",
              "        const buttonEl =\n",
              "          document.querySelector('#df-935f9c08-f27d-4606-bdbe-1f1977c1e8b9 button.colab-df-convert');\n",
              "        buttonEl.style.display =\n",
              "          google.colab.kernel.accessAllowed ? 'block' : 'none';\n",
              "\n",
              "        async function convertToInteractive(key) {\n",
              "          const element = document.querySelector('#df-935f9c08-f27d-4606-bdbe-1f1977c1e8b9');\n",
              "          const dataTable =\n",
              "            await google.colab.kernel.invokeFunction('convertToInteractive',\n",
              "                                                     [key], {});\n",
              "          if (!dataTable) return;\n",
              "\n",
              "          const docLinkHtml = 'Like what you see? Visit the ' +\n",
              "            '<a target=\"_blank\" href=https://colab.research.google.com/notebooks/data_table.ipynb>data table notebook</a>'\n",
              "            + ' to learn more about interactive tables.';\n",
              "          element.innerHTML = '';\n",
              "          dataTable['output_type'] = 'display_data';\n",
              "          await google.colab.output.renderOutput(dataTable, element);\n",
              "          const docLink = document.createElement('div');\n",
              "          docLink.innerHTML = docLinkHtml;\n",
              "          element.appendChild(docLink);\n",
              "        }\n",
              "      </script>\n",
              "    </div>\n",
              "  </div>\n",
              "  "
            ]
          },
          "metadata": {},
          "execution_count": 11
        }
      ],
      "source": [
        "# Add labels to the test data\n",
        "test_data['label']=label_data['label']\n",
        "test_data.head()"
      ]
    },
    {
      "cell_type": "code",
      "execution_count": 12,
      "metadata": {
        "colab": {
          "base_uri": "https://localhost:8080/",
          "height": 206
        },
        "id": "aRAO2R4hakk_",
        "outputId": "f9899ab6-1f2f-4a0e-b1b9-5b83a1f2d4b1"
      },
      "outputs": [
        {
          "output_type": "execute_result",
          "data": {
            "text/plain": [
              "   id                                              title              author  \\\n",
              "0   0  House Dem Aide: We Didn’t Even See Comey’s Let...       Darrell Lucus   \n",
              "1   1  FLYNN: Hillary Clinton, Big Woman on Campus - ...     Daniel J. Flynn   \n",
              "2   2                  Why the Truth Might Get You Fired  Consortiumnews.com   \n",
              "3   3  15 Civilians Killed In Single US Airstrike Hav...     Jessica Purkiss   \n",
              "4   4  Iranian woman jailed for fictional unpublished...      Howard Portnoy   \n",
              "\n",
              "                                                text  label  \n",
              "0  House Dem Aide: We Didn’t Even See Comey’s Let...      1  \n",
              "1  Ever get the feeling your life circles the rou...      0  \n",
              "2  Why the Truth Might Get You Fired October 29, ...      1  \n",
              "3  Videos 15 Civilians Killed In Single US Airstr...      1  \n",
              "4  Print \\nAn Iranian woman has been sentenced to...      1  "
            ],
            "text/html": [
              "\n",
              "  <div id=\"df-185c1336-7769-484d-97f4-939d90bd510a\">\n",
              "    <div class=\"colab-df-container\">\n",
              "      <div>\n",
              "<style scoped>\n",
              "    .dataframe tbody tr th:only-of-type {\n",
              "        vertical-align: middle;\n",
              "    }\n",
              "\n",
              "    .dataframe tbody tr th {\n",
              "        vertical-align: top;\n",
              "    }\n",
              "\n",
              "    .dataframe thead th {\n",
              "        text-align: right;\n",
              "    }\n",
              "</style>\n",
              "<table border=\"1\" class=\"dataframe\">\n",
              "  <thead>\n",
              "    <tr style=\"text-align: right;\">\n",
              "      <th></th>\n",
              "      <th>id</th>\n",
              "      <th>title</th>\n",
              "      <th>author</th>\n",
              "      <th>text</th>\n",
              "      <th>label</th>\n",
              "    </tr>\n",
              "  </thead>\n",
              "  <tbody>\n",
              "    <tr>\n",
              "      <th>0</th>\n",
              "      <td>0</td>\n",
              "      <td>House Dem Aide: We Didn’t Even See Comey’s Let...</td>\n",
              "      <td>Darrell Lucus</td>\n",
              "      <td>House Dem Aide: We Didn’t Even See Comey’s Let...</td>\n",
              "      <td>1</td>\n",
              "    </tr>\n",
              "    <tr>\n",
              "      <th>1</th>\n",
              "      <td>1</td>\n",
              "      <td>FLYNN: Hillary Clinton, Big Woman on Campus - ...</td>\n",
              "      <td>Daniel J. Flynn</td>\n",
              "      <td>Ever get the feeling your life circles the rou...</td>\n",
              "      <td>0</td>\n",
              "    </tr>\n",
              "    <tr>\n",
              "      <th>2</th>\n",
              "      <td>2</td>\n",
              "      <td>Why the Truth Might Get You Fired</td>\n",
              "      <td>Consortiumnews.com</td>\n",
              "      <td>Why the Truth Might Get You Fired October 29, ...</td>\n",
              "      <td>1</td>\n",
              "    </tr>\n",
              "    <tr>\n",
              "      <th>3</th>\n",
              "      <td>3</td>\n",
              "      <td>15 Civilians Killed In Single US Airstrike Hav...</td>\n",
              "      <td>Jessica Purkiss</td>\n",
              "      <td>Videos 15 Civilians Killed In Single US Airstr...</td>\n",
              "      <td>1</td>\n",
              "    </tr>\n",
              "    <tr>\n",
              "      <th>4</th>\n",
              "      <td>4</td>\n",
              "      <td>Iranian woman jailed for fictional unpublished...</td>\n",
              "      <td>Howard Portnoy</td>\n",
              "      <td>Print \\nAn Iranian woman has been sentenced to...</td>\n",
              "      <td>1</td>\n",
              "    </tr>\n",
              "  </tbody>\n",
              "</table>\n",
              "</div>\n",
              "      <button class=\"colab-df-convert\" onclick=\"convertToInteractive('df-185c1336-7769-484d-97f4-939d90bd510a')\"\n",
              "              title=\"Convert this dataframe to an interactive table.\"\n",
              "              style=\"display:none;\">\n",
              "        \n",
              "  <svg xmlns=\"http://www.w3.org/2000/svg\" height=\"24px\"viewBox=\"0 0 24 24\"\n",
              "       width=\"24px\">\n",
              "    <path d=\"M0 0h24v24H0V0z\" fill=\"none\"/>\n",
              "    <path d=\"M18.56 5.44l.94 2.06.94-2.06 2.06-.94-2.06-.94-.94-2.06-.94 2.06-2.06.94zm-11 1L8.5 8.5l.94-2.06 2.06-.94-2.06-.94L8.5 2.5l-.94 2.06-2.06.94zm10 10l.94 2.06.94-2.06 2.06-.94-2.06-.94-.94-2.06-.94 2.06-2.06.94z\"/><path d=\"M17.41 7.96l-1.37-1.37c-.4-.4-.92-.59-1.43-.59-.52 0-1.04.2-1.43.59L10.3 9.45l-7.72 7.72c-.78.78-.78 2.05 0 2.83L4 21.41c.39.39.9.59 1.41.59.51 0 1.02-.2 1.41-.59l7.78-7.78 2.81-2.81c.8-.78.8-2.07 0-2.86zM5.41 20L4 18.59l7.72-7.72 1.47 1.35L5.41 20z\"/>\n",
              "  </svg>\n",
              "      </button>\n",
              "      \n",
              "  <style>\n",
              "    .colab-df-container {\n",
              "      display:flex;\n",
              "      flex-wrap:wrap;\n",
              "      gap: 12px;\n",
              "    }\n",
              "\n",
              "    .colab-df-convert {\n",
              "      background-color: #E8F0FE;\n",
              "      border: none;\n",
              "      border-radius: 50%;\n",
              "      cursor: pointer;\n",
              "      display: none;\n",
              "      fill: #1967D2;\n",
              "      height: 32px;\n",
              "      padding: 0 0 0 0;\n",
              "      width: 32px;\n",
              "    }\n",
              "\n",
              "    .colab-df-convert:hover {\n",
              "      background-color: #E2EBFA;\n",
              "      box-shadow: 0px 1px 2px rgba(60, 64, 67, 0.3), 0px 1px 3px 1px rgba(60, 64, 67, 0.15);\n",
              "      fill: #174EA6;\n",
              "    }\n",
              "\n",
              "    [theme=dark] .colab-df-convert {\n",
              "      background-color: #3B4455;\n",
              "      fill: #D2E3FC;\n",
              "    }\n",
              "\n",
              "    [theme=dark] .colab-df-convert:hover {\n",
              "      background-color: #434B5C;\n",
              "      box-shadow: 0px 1px 3px 1px rgba(0, 0, 0, 0.15);\n",
              "      filter: drop-shadow(0px 1px 2px rgba(0, 0, 0, 0.3));\n",
              "      fill: #FFFFFF;\n",
              "    }\n",
              "  </style>\n",
              "\n",
              "      <script>\n",
              "        const buttonEl =\n",
              "          document.querySelector('#df-185c1336-7769-484d-97f4-939d90bd510a button.colab-df-convert');\n",
              "        buttonEl.style.display =\n",
              "          google.colab.kernel.accessAllowed ? 'block' : 'none';\n",
              "\n",
              "        async function convertToInteractive(key) {\n",
              "          const element = document.querySelector('#df-185c1336-7769-484d-97f4-939d90bd510a');\n",
              "          const dataTable =\n",
              "            await google.colab.kernel.invokeFunction('convertToInteractive',\n",
              "                                                     [key], {});\n",
              "          if (!dataTable) return;\n",
              "\n",
              "          const docLinkHtml = 'Like what you see? Visit the ' +\n",
              "            '<a target=\"_blank\" href=https://colab.research.google.com/notebooks/data_table.ipynb>data table notebook</a>'\n",
              "            + ' to learn more about interactive tables.';\n",
              "          element.innerHTML = '';\n",
              "          dataTable['output_type'] = 'display_data';\n",
              "          await google.colab.output.renderOutput(dataTable, element);\n",
              "          const docLink = document.createElement('div');\n",
              "          docLink.innerHTML = docLinkHtml;\n",
              "          element.appendChild(docLink);\n",
              "        }\n",
              "      </script>\n",
              "    </div>\n",
              "  </div>\n",
              "  "
            ]
          },
          "metadata": {},
          "execution_count": 12
        }
      ],
      "source": [
        "# Combine train & test data into 1 data set to process\n",
        "df = train_data.append(test_data, ignore_index=True)\n",
        "df.head()"
      ]
    },
    {
      "cell_type": "markdown",
      "metadata": {
        "id": "GpaT1QGypov4"
      },
      "source": [
        "### 1.2 Pre-processing & featuring data"
      ]
    },
    {
      "cell_type": "code",
      "execution_count": 13,
      "metadata": {
        "colab": {
          "base_uri": "https://localhost:8080/"
        },
        "id": "44q2UtOCP0SA",
        "outputId": "02ff49c8-e806-4223-e056-75247db1f60c"
      },
      "outputs": [
        {
          "output_type": "stream",
          "name": "stdout",
          "text": [
            "<class 'pandas.core.frame.DataFrame'>\n",
            "RangeIndex: 26000 entries, 0 to 25999\n",
            "Data columns (total 5 columns):\n",
            " #   Column  Non-Null Count  Dtype \n",
            "---  ------  --------------  ----- \n",
            " 0   id      26000 non-null  int64 \n",
            " 1   title   25320 non-null  object\n",
            " 2   author  23540 non-null  object\n",
            " 3   text    25954 non-null  object\n",
            " 4   label   26000 non-null  int64 \n",
            "dtypes: int64(2), object(3)\n",
            "memory usage: 1015.8+ KB\n"
          ]
        }
      ],
      "source": [
        "df.info()"
      ]
    },
    {
      "cell_type": "code",
      "execution_count": 14,
      "metadata": {
        "colab": {
          "base_uri": "https://localhost:8080/",
          "height": 206
        },
        "id": "-J78VgcfV4fM",
        "outputId": "a55af5d9-359f-49fd-f875-af63b8fb6e92"
      },
      "outputs": [
        {
          "output_type": "execute_result",
          "data": {
            "text/plain": [
              "   id                                              title              author  \\\n",
              "0   0  House Dem Aide: We Didn’t Even See Comey’s Let...       Darrell Lucus   \n",
              "1   1  FLYNN: Hillary Clinton, Big Woman on Campus - ...     Daniel J. Flynn   \n",
              "2   2                  Why the Truth Might Get You Fired  Consortiumnews.com   \n",
              "3   3  15 Civilians Killed In Single US Airstrike Hav...     Jessica Purkiss   \n",
              "4   4  Iranian woman jailed for fictional unpublished...      Howard Portnoy   \n",
              "\n",
              "                                                text  label  \\\n",
              "0  House Dem Aide: We Didn’t Even See Comey’s Let...      1   \n",
              "1  Ever get the feeling your life circles the rou...      0   \n",
              "2  Why the Truth Might Get You Fired October 29, ...      1   \n",
              "3  Videos 15 Civilians Killed In Single US Airstr...      1   \n",
              "4  Print \\nAn Iranian woman has been sentenced to...      1   \n",
              "\n",
              "                                       combined_text  \n",
              "0  House Dem Aide: We Didn’t Even See Comey’s Let...  \n",
              "1  FLYNN: Hillary Clinton, Big Woman on Campus - ...  \n",
              "2  Why the Truth Might Get You Fired Why the Trut...  \n",
              "3  15 Civilians Killed In Single US Airstrike Hav...  \n",
              "4  Iranian woman jailed for fictional unpublished...  "
            ],
            "text/html": [
              "\n",
              "  <div id=\"df-1fcecf75-4a88-4a66-bcb8-02254709cc19\">\n",
              "    <div class=\"colab-df-container\">\n",
              "      <div>\n",
              "<style scoped>\n",
              "    .dataframe tbody tr th:only-of-type {\n",
              "        vertical-align: middle;\n",
              "    }\n",
              "\n",
              "    .dataframe tbody tr th {\n",
              "        vertical-align: top;\n",
              "    }\n",
              "\n",
              "    .dataframe thead th {\n",
              "        text-align: right;\n",
              "    }\n",
              "</style>\n",
              "<table border=\"1\" class=\"dataframe\">\n",
              "  <thead>\n",
              "    <tr style=\"text-align: right;\">\n",
              "      <th></th>\n",
              "      <th>id</th>\n",
              "      <th>title</th>\n",
              "      <th>author</th>\n",
              "      <th>text</th>\n",
              "      <th>label</th>\n",
              "      <th>combined_text</th>\n",
              "    </tr>\n",
              "  </thead>\n",
              "  <tbody>\n",
              "    <tr>\n",
              "      <th>0</th>\n",
              "      <td>0</td>\n",
              "      <td>House Dem Aide: We Didn’t Even See Comey’s Let...</td>\n",
              "      <td>Darrell Lucus</td>\n",
              "      <td>House Dem Aide: We Didn’t Even See Comey’s Let...</td>\n",
              "      <td>1</td>\n",
              "      <td>House Dem Aide: We Didn’t Even See Comey’s Let...</td>\n",
              "    </tr>\n",
              "    <tr>\n",
              "      <th>1</th>\n",
              "      <td>1</td>\n",
              "      <td>FLYNN: Hillary Clinton, Big Woman on Campus - ...</td>\n",
              "      <td>Daniel J. Flynn</td>\n",
              "      <td>Ever get the feeling your life circles the rou...</td>\n",
              "      <td>0</td>\n",
              "      <td>FLYNN: Hillary Clinton, Big Woman on Campus - ...</td>\n",
              "    </tr>\n",
              "    <tr>\n",
              "      <th>2</th>\n",
              "      <td>2</td>\n",
              "      <td>Why the Truth Might Get You Fired</td>\n",
              "      <td>Consortiumnews.com</td>\n",
              "      <td>Why the Truth Might Get You Fired October 29, ...</td>\n",
              "      <td>1</td>\n",
              "      <td>Why the Truth Might Get You Fired Why the Trut...</td>\n",
              "    </tr>\n",
              "    <tr>\n",
              "      <th>3</th>\n",
              "      <td>3</td>\n",
              "      <td>15 Civilians Killed In Single US Airstrike Hav...</td>\n",
              "      <td>Jessica Purkiss</td>\n",
              "      <td>Videos 15 Civilians Killed In Single US Airstr...</td>\n",
              "      <td>1</td>\n",
              "      <td>15 Civilians Killed In Single US Airstrike Hav...</td>\n",
              "    </tr>\n",
              "    <tr>\n",
              "      <th>4</th>\n",
              "      <td>4</td>\n",
              "      <td>Iranian woman jailed for fictional unpublished...</td>\n",
              "      <td>Howard Portnoy</td>\n",
              "      <td>Print \\nAn Iranian woman has been sentenced to...</td>\n",
              "      <td>1</td>\n",
              "      <td>Iranian woman jailed for fictional unpublished...</td>\n",
              "    </tr>\n",
              "  </tbody>\n",
              "</table>\n",
              "</div>\n",
              "      <button class=\"colab-df-convert\" onclick=\"convertToInteractive('df-1fcecf75-4a88-4a66-bcb8-02254709cc19')\"\n",
              "              title=\"Convert this dataframe to an interactive table.\"\n",
              "              style=\"display:none;\">\n",
              "        \n",
              "  <svg xmlns=\"http://www.w3.org/2000/svg\" height=\"24px\"viewBox=\"0 0 24 24\"\n",
              "       width=\"24px\">\n",
              "    <path d=\"M0 0h24v24H0V0z\" fill=\"none\"/>\n",
              "    <path d=\"M18.56 5.44l.94 2.06.94-2.06 2.06-.94-2.06-.94-.94-2.06-.94 2.06-2.06.94zm-11 1L8.5 8.5l.94-2.06 2.06-.94-2.06-.94L8.5 2.5l-.94 2.06-2.06.94zm10 10l.94 2.06.94-2.06 2.06-.94-2.06-.94-.94-2.06-.94 2.06-2.06.94z\"/><path d=\"M17.41 7.96l-1.37-1.37c-.4-.4-.92-.59-1.43-.59-.52 0-1.04.2-1.43.59L10.3 9.45l-7.72 7.72c-.78.78-.78 2.05 0 2.83L4 21.41c.39.39.9.59 1.41.59.51 0 1.02-.2 1.41-.59l7.78-7.78 2.81-2.81c.8-.78.8-2.07 0-2.86zM5.41 20L4 18.59l7.72-7.72 1.47 1.35L5.41 20z\"/>\n",
              "  </svg>\n",
              "      </button>\n",
              "      \n",
              "  <style>\n",
              "    .colab-df-container {\n",
              "      display:flex;\n",
              "      flex-wrap:wrap;\n",
              "      gap: 12px;\n",
              "    }\n",
              "\n",
              "    .colab-df-convert {\n",
              "      background-color: #E8F0FE;\n",
              "      border: none;\n",
              "      border-radius: 50%;\n",
              "      cursor: pointer;\n",
              "      display: none;\n",
              "      fill: #1967D2;\n",
              "      height: 32px;\n",
              "      padding: 0 0 0 0;\n",
              "      width: 32px;\n",
              "    }\n",
              "\n",
              "    .colab-df-convert:hover {\n",
              "      background-color: #E2EBFA;\n",
              "      box-shadow: 0px 1px 2px rgba(60, 64, 67, 0.3), 0px 1px 3px 1px rgba(60, 64, 67, 0.15);\n",
              "      fill: #174EA6;\n",
              "    }\n",
              "\n",
              "    [theme=dark] .colab-df-convert {\n",
              "      background-color: #3B4455;\n",
              "      fill: #D2E3FC;\n",
              "    }\n",
              "\n",
              "    [theme=dark] .colab-df-convert:hover {\n",
              "      background-color: #434B5C;\n",
              "      box-shadow: 0px 1px 3px 1px rgba(0, 0, 0, 0.15);\n",
              "      filter: drop-shadow(0px 1px 2px rgba(0, 0, 0, 0.3));\n",
              "      fill: #FFFFFF;\n",
              "    }\n",
              "  </style>\n",
              "\n",
              "      <script>\n",
              "        const buttonEl =\n",
              "          document.querySelector('#df-1fcecf75-4a88-4a66-bcb8-02254709cc19 button.colab-df-convert');\n",
              "        buttonEl.style.display =\n",
              "          google.colab.kernel.accessAllowed ? 'block' : 'none';\n",
              "\n",
              "        async function convertToInteractive(key) {\n",
              "          const element = document.querySelector('#df-1fcecf75-4a88-4a66-bcb8-02254709cc19');\n",
              "          const dataTable =\n",
              "            await google.colab.kernel.invokeFunction('convertToInteractive',\n",
              "                                                     [key], {});\n",
              "          if (!dataTable) return;\n",
              "\n",
              "          const docLinkHtml = 'Like what you see? Visit the ' +\n",
              "            '<a target=\"_blank\" href=https://colab.research.google.com/notebooks/data_table.ipynb>data table notebook</a>'\n",
              "            + ' to learn more about interactive tables.';\n",
              "          element.innerHTML = '';\n",
              "          dataTable['output_type'] = 'display_data';\n",
              "          await google.colab.output.renderOutput(dataTable, element);\n",
              "          const docLink = document.createElement('div');\n",
              "          docLink.innerHTML = docLinkHtml;\n",
              "          element.appendChild(docLink);\n",
              "        }\n",
              "      </script>\n",
              "    </div>\n",
              "  </div>\n",
              "  "
            ]
          },
          "metadata": {},
          "execution_count": 14
        }
      ],
      "source": [
        "# Combined title, author & text for text analysis\n",
        "df[\"combined_text\"] = df[\"title\"].fillna(\"\") +\" \"+ df[\"text\"].fillna(\"\")+\" \"+ df[\"author\"].fillna(\"\")\n",
        "df.head()"
      ]
    },
    {
      "cell_type": "code",
      "execution_count": 15,
      "metadata": {
        "colab": {
          "base_uri": "https://localhost:8080/"
        },
        "id": "bXxG86XSbyKo",
        "outputId": "435e5d23-2a94-464e-aa0b-315b52721c60"
      },
      "outputs": [
        {
          "output_type": "stream",
          "name": "stdout",
          "text": [
            "2605 id                                                              2605\n",
            "title              AB-Çin ilişkilerinde ABD ve NATO’nun etkisi, y...\n",
            "author                                                Manlio Dinucci\n",
            "text               AB-Çin ilişkilerinde ABD ve NATO’nun etkisi ya...\n",
            "label                                                              1\n",
            "combined_text      AB-Çin ilişkilerinde ABD ve NATO’nun etkisi, y...\n",
            "clean_comb_text                                                     \n",
            "Name: 2605, dtype: object\n",
            "11358 id                                                             11358\n",
            "title              BRİCS ülkeleri ABD’nin mali savaşıyla baş etme...\n",
            "author                                                  Osman Soysal\n",
            "text               BRİCS ülkeleri ABD’nin mali savaşıyla baş etme...\n",
            "label                                                              1\n",
            "combined_text      BRİCS ülkeleri ABD’nin mali savaşıyla baş etme...\n",
            "clean_comb_text                                                     \n",
            "Name: 11358, dtype: object\n",
            "17549 id                                                             17549\n",
            "title              Nükleer silahlara « Hayır » oyu nasıl verilir?...\n",
            "author                                                Manlio Dinucci\n",
            "text               Nükleer silahlara « Hayır » oyu nasıl verilir?...\n",
            "label                                                              1\n",
            "combined_text      Nükleer silahlara « Hayır » oyu nasıl verilir?...\n",
            "clean_comb_text                                                     \n",
            "Name: 17549, dtype: object\n",
            "24743 id                                                             24743\n",
            "title                                Erdoğan Ailesi ve IŞİD (devamı)\n",
            "author                                                 Murat Özdemir\n",
            "text               Erdoğan Ailesi ve IŞİD (devamı) Voltaire İleti...\n",
            "label                                                              1\n",
            "combined_text      Erdoğan Ailesi ve IŞİD (devamı) Erdoğan Ailesi...\n",
            "clean_comb_text                                                     \n",
            "Name: 24743, dtype: object\n",
            "25922 id                                                             25922\n",
            "title                 Açık ittifak, uzun itaat, yazan Manlio Dinucci\n",
            "author                                                Manlio Dinucci\n",
            "text               Açık ittifak, uzun itaat yazan Manlio Dinucci ...\n",
            "label                                                              1\n",
            "combined_text      Açık ittifak, uzun itaat, yazan Manlio Dinucci...\n",
            "clean_comb_text                                                     \n",
            "Name: 25922, dtype: object\n"
          ]
        }
      ],
      "source": [
        "df['clean_comb_text']=''\n",
        "\n",
        "# Expand contractions & lower case\n",
        "    # check error during contraction\n",
        "for index, row in df.iterrows():\n",
        "  try:\n",
        "    contractions.fix(df['combined_text'][index])\n",
        "  except:\n",
        "    print(index,row)"
      ]
    },
    {
      "cell_type": "code",
      "execution_count": 16,
      "metadata": {
        "colab": {
          "base_uri": "https://localhost:8080/",
          "height": 737
        },
        "id": "mcsLOtt8QVBI",
        "outputId": "35424611-eb0b-4601-913f-5e7b328c0786"
      },
      "outputs": [
        {
          "output_type": "stream",
          "name": "stderr",
          "text": [
            "<ipython-input-16-72a146d58f55>:5: SettingWithCopyWarning: \n",
            "A value is trying to be set on a copy of a slice from a DataFrame\n",
            "\n",
            "See the caveats in the documentation: https://pandas.pydata.org/pandas-docs/stable/user_guide/indexing.html#returning-a-view-versus-a-copy\n",
            "  df['clean_comb_text'][index]=contractions.fix(df['combined_text'][index]).lower()\n",
            "<ipython-input-16-72a146d58f55>:8: FutureWarning: The default value of regex will change from True to False in a future version.\n",
            "  df['clean_comb_text'] = df['clean_comb_text'].str.replace('[^\\w\\s]','')\n",
            "<ipython-input-16-72a146d58f55>:11: FutureWarning: The default value of regex will change from True to False in a future version.\n",
            "  df['clean_comb_text'] = df['clean_comb_text'].str.replace('\\d+', '')\n"
          ]
        },
        {
          "output_type": "execute_result",
          "data": {
            "text/plain": [
              "   id                                              title  \\\n",
              "0   0  House Dem Aide: We Didn’t Even See Comey’s Let...   \n",
              "1   1  FLYNN: Hillary Clinton, Big Woman on Campus - ...   \n",
              "2   2                  Why the Truth Might Get You Fired   \n",
              "3   3  15 Civilians Killed In Single US Airstrike Hav...   \n",
              "4   4  Iranian woman jailed for fictional unpublished...   \n",
              "5   5  Jackie Mason: Hollywood Would Love Trump if He...   \n",
              "6   6  Life: Life Of Luxury: Elton John’s 6 Favorite ...   \n",
              "7   7  Benoît Hamon Wins French Socialist Party’s Pre...   \n",
              "8   8  Excerpts From a Draft Script for Donald Trump’...   \n",
              "9   9  A Back-Channel Plan for Ukraine and Russia, Co...   \n",
              "\n",
              "                         author  \\\n",
              "0                 Darrell Lucus   \n",
              "1               Daniel J. Flynn   \n",
              "2            Consortiumnews.com   \n",
              "3               Jessica Purkiss   \n",
              "4                Howard Portnoy   \n",
              "5               Daniel Nussbaum   \n",
              "6                           NaN   \n",
              "7               Alissa J. Rubin   \n",
              "8                           NaN   \n",
              "9  Megan Twohey and Scott Shane   \n",
              "\n",
              "                                                text  label  \\\n",
              "0  House Dem Aide: We Didn’t Even See Comey’s Let...      1   \n",
              "1  Ever get the feeling your life circles the rou...      0   \n",
              "2  Why the Truth Might Get You Fired October 29, ...      1   \n",
              "3  Videos 15 Civilians Killed In Single US Airstr...      1   \n",
              "4  Print \\nAn Iranian woman has been sentenced to...      1   \n",
              "5  In these trying times, Jackie Mason is the Voi...      0   \n",
              "6  Ever wonder how Britain’s most iconic pop pian...      1   \n",
              "7  PARIS  —   France chose an idealistic, traditi...      0   \n",
              "8  Donald J. Trump is scheduled to make a highly ...      0   \n",
              "9  A week before Michael T. Flynn resigned as nat...      0   \n",
              "\n",
              "                                       combined_text  \\\n",
              "0  House Dem Aide: We Didn’t Even See Comey’s Let...   \n",
              "1  FLYNN: Hillary Clinton, Big Woman on Campus - ...   \n",
              "2  Why the Truth Might Get You Fired Why the Trut...   \n",
              "3  15 Civilians Killed In Single US Airstrike Hav...   \n",
              "4  Iranian woman jailed for fictional unpublished...   \n",
              "5  Jackie Mason: Hollywood Would Love Trump if He...   \n",
              "6  Life: Life Of Luxury: Elton John’s 6 Favorite ...   \n",
              "7  Benoît Hamon Wins French Socialist Party’s Pre...   \n",
              "8  Excerpts From a Draft Script for Donald Trump’...   \n",
              "9  A Back-Channel Plan for Ukraine and Russia, Co...   \n",
              "\n",
              "                                     clean_comb_text  \n",
              "0  hous dem aid even see comey letter jason chaff...  \n",
              "1  flynn hillari clinton big woman campus breitba...  \n",
              "2  whi truth might get fire whi truth might get f...  \n",
              "3  civilian kill singl us airstrik identifi video...  \n",
              "4  iranian woman jail fiction unpublish stori wom...  \n",
              "5  jacki mason hollywood would love trump bomb no...  \n",
              "6  life life luxuri elton john favorit shark pict...  \n",
              "7  benoît hamon win french socialist parti presid...  \n",
              "8  excerpt draft script donald trump qampa black ...  \n",
              "9  backchannel plan ukrain russia courtesi trump ...  "
            ],
            "text/html": [
              "\n",
              "  <div id=\"df-9e5431a2-2dbb-4a8a-9265-8fe7268c1164\">\n",
              "    <div class=\"colab-df-container\">\n",
              "      <div>\n",
              "<style scoped>\n",
              "    .dataframe tbody tr th:only-of-type {\n",
              "        vertical-align: middle;\n",
              "    }\n",
              "\n",
              "    .dataframe tbody tr th {\n",
              "        vertical-align: top;\n",
              "    }\n",
              "\n",
              "    .dataframe thead th {\n",
              "        text-align: right;\n",
              "    }\n",
              "</style>\n",
              "<table border=\"1\" class=\"dataframe\">\n",
              "  <thead>\n",
              "    <tr style=\"text-align: right;\">\n",
              "      <th></th>\n",
              "      <th>id</th>\n",
              "      <th>title</th>\n",
              "      <th>author</th>\n",
              "      <th>text</th>\n",
              "      <th>label</th>\n",
              "      <th>combined_text</th>\n",
              "      <th>clean_comb_text</th>\n",
              "    </tr>\n",
              "  </thead>\n",
              "  <tbody>\n",
              "    <tr>\n",
              "      <th>0</th>\n",
              "      <td>0</td>\n",
              "      <td>House Dem Aide: We Didn’t Even See Comey’s Let...</td>\n",
              "      <td>Darrell Lucus</td>\n",
              "      <td>House Dem Aide: We Didn’t Even See Comey’s Let...</td>\n",
              "      <td>1</td>\n",
              "      <td>House Dem Aide: We Didn’t Even See Comey’s Let...</td>\n",
              "      <td>hous dem aid even see comey letter jason chaff...</td>\n",
              "    </tr>\n",
              "    <tr>\n",
              "      <th>1</th>\n",
              "      <td>1</td>\n",
              "      <td>FLYNN: Hillary Clinton, Big Woman on Campus - ...</td>\n",
              "      <td>Daniel J. Flynn</td>\n",
              "      <td>Ever get the feeling your life circles the rou...</td>\n",
              "      <td>0</td>\n",
              "      <td>FLYNN: Hillary Clinton, Big Woman on Campus - ...</td>\n",
              "      <td>flynn hillari clinton big woman campus breitba...</td>\n",
              "    </tr>\n",
              "    <tr>\n",
              "      <th>2</th>\n",
              "      <td>2</td>\n",
              "      <td>Why the Truth Might Get You Fired</td>\n",
              "      <td>Consortiumnews.com</td>\n",
              "      <td>Why the Truth Might Get You Fired October 29, ...</td>\n",
              "      <td>1</td>\n",
              "      <td>Why the Truth Might Get You Fired Why the Trut...</td>\n",
              "      <td>whi truth might get fire whi truth might get f...</td>\n",
              "    </tr>\n",
              "    <tr>\n",
              "      <th>3</th>\n",
              "      <td>3</td>\n",
              "      <td>15 Civilians Killed In Single US Airstrike Hav...</td>\n",
              "      <td>Jessica Purkiss</td>\n",
              "      <td>Videos 15 Civilians Killed In Single US Airstr...</td>\n",
              "      <td>1</td>\n",
              "      <td>15 Civilians Killed In Single US Airstrike Hav...</td>\n",
              "      <td>civilian kill singl us airstrik identifi video...</td>\n",
              "    </tr>\n",
              "    <tr>\n",
              "      <th>4</th>\n",
              "      <td>4</td>\n",
              "      <td>Iranian woman jailed for fictional unpublished...</td>\n",
              "      <td>Howard Portnoy</td>\n",
              "      <td>Print \\nAn Iranian woman has been sentenced to...</td>\n",
              "      <td>1</td>\n",
              "      <td>Iranian woman jailed for fictional unpublished...</td>\n",
              "      <td>iranian woman jail fiction unpublish stori wom...</td>\n",
              "    </tr>\n",
              "    <tr>\n",
              "      <th>5</th>\n",
              "      <td>5</td>\n",
              "      <td>Jackie Mason: Hollywood Would Love Trump if He...</td>\n",
              "      <td>Daniel Nussbaum</td>\n",
              "      <td>In these trying times, Jackie Mason is the Voi...</td>\n",
              "      <td>0</td>\n",
              "      <td>Jackie Mason: Hollywood Would Love Trump if He...</td>\n",
              "      <td>jacki mason hollywood would love trump bomb no...</td>\n",
              "    </tr>\n",
              "    <tr>\n",
              "      <th>6</th>\n",
              "      <td>6</td>\n",
              "      <td>Life: Life Of Luxury: Elton John’s 6 Favorite ...</td>\n",
              "      <td>NaN</td>\n",
              "      <td>Ever wonder how Britain’s most iconic pop pian...</td>\n",
              "      <td>1</td>\n",
              "      <td>Life: Life Of Luxury: Elton John’s 6 Favorite ...</td>\n",
              "      <td>life life luxuri elton john favorit shark pict...</td>\n",
              "    </tr>\n",
              "    <tr>\n",
              "      <th>7</th>\n",
              "      <td>7</td>\n",
              "      <td>Benoît Hamon Wins French Socialist Party’s Pre...</td>\n",
              "      <td>Alissa J. Rubin</td>\n",
              "      <td>PARIS  —   France chose an idealistic, traditi...</td>\n",
              "      <td>0</td>\n",
              "      <td>Benoît Hamon Wins French Socialist Party’s Pre...</td>\n",
              "      <td>benoît hamon win french socialist parti presid...</td>\n",
              "    </tr>\n",
              "    <tr>\n",
              "      <th>8</th>\n",
              "      <td>8</td>\n",
              "      <td>Excerpts From a Draft Script for Donald Trump’...</td>\n",
              "      <td>NaN</td>\n",
              "      <td>Donald J. Trump is scheduled to make a highly ...</td>\n",
              "      <td>0</td>\n",
              "      <td>Excerpts From a Draft Script for Donald Trump’...</td>\n",
              "      <td>excerpt draft script donald trump qampa black ...</td>\n",
              "    </tr>\n",
              "    <tr>\n",
              "      <th>9</th>\n",
              "      <td>9</td>\n",
              "      <td>A Back-Channel Plan for Ukraine and Russia, Co...</td>\n",
              "      <td>Megan Twohey and Scott Shane</td>\n",
              "      <td>A week before Michael T. Flynn resigned as nat...</td>\n",
              "      <td>0</td>\n",
              "      <td>A Back-Channel Plan for Ukraine and Russia, Co...</td>\n",
              "      <td>backchannel plan ukrain russia courtesi trump ...</td>\n",
              "    </tr>\n",
              "  </tbody>\n",
              "</table>\n",
              "</div>\n",
              "      <button class=\"colab-df-convert\" onclick=\"convertToInteractive('df-9e5431a2-2dbb-4a8a-9265-8fe7268c1164')\"\n",
              "              title=\"Convert this dataframe to an interactive table.\"\n",
              "              style=\"display:none;\">\n",
              "        \n",
              "  <svg xmlns=\"http://www.w3.org/2000/svg\" height=\"24px\"viewBox=\"0 0 24 24\"\n",
              "       width=\"24px\">\n",
              "    <path d=\"M0 0h24v24H0V0z\" fill=\"none\"/>\n",
              "    <path d=\"M18.56 5.44l.94 2.06.94-2.06 2.06-.94-2.06-.94-.94-2.06-.94 2.06-2.06.94zm-11 1L8.5 8.5l.94-2.06 2.06-.94-2.06-.94L8.5 2.5l-.94 2.06-2.06.94zm10 10l.94 2.06.94-2.06 2.06-.94-2.06-.94-.94-2.06-.94 2.06-2.06.94z\"/><path d=\"M17.41 7.96l-1.37-1.37c-.4-.4-.92-.59-1.43-.59-.52 0-1.04.2-1.43.59L10.3 9.45l-7.72 7.72c-.78.78-.78 2.05 0 2.83L4 21.41c.39.39.9.59 1.41.59.51 0 1.02-.2 1.41-.59l7.78-7.78 2.81-2.81c.8-.78.8-2.07 0-2.86zM5.41 20L4 18.59l7.72-7.72 1.47 1.35L5.41 20z\"/>\n",
              "  </svg>\n",
              "      </button>\n",
              "      \n",
              "  <style>\n",
              "    .colab-df-container {\n",
              "      display:flex;\n",
              "      flex-wrap:wrap;\n",
              "      gap: 12px;\n",
              "    }\n",
              "\n",
              "    .colab-df-convert {\n",
              "      background-color: #E8F0FE;\n",
              "      border: none;\n",
              "      border-radius: 50%;\n",
              "      cursor: pointer;\n",
              "      display: none;\n",
              "      fill: #1967D2;\n",
              "      height: 32px;\n",
              "      padding: 0 0 0 0;\n",
              "      width: 32px;\n",
              "    }\n",
              "\n",
              "    .colab-df-convert:hover {\n",
              "      background-color: #E2EBFA;\n",
              "      box-shadow: 0px 1px 2px rgba(60, 64, 67, 0.3), 0px 1px 3px 1px rgba(60, 64, 67, 0.15);\n",
              "      fill: #174EA6;\n",
              "    }\n",
              "\n",
              "    [theme=dark] .colab-df-convert {\n",
              "      background-color: #3B4455;\n",
              "      fill: #D2E3FC;\n",
              "    }\n",
              "\n",
              "    [theme=dark] .colab-df-convert:hover {\n",
              "      background-color: #434B5C;\n",
              "      box-shadow: 0px 1px 3px 1px rgba(0, 0, 0, 0.15);\n",
              "      filter: drop-shadow(0px 1px 2px rgba(0, 0, 0, 0.3));\n",
              "      fill: #FFFFFF;\n",
              "    }\n",
              "  </style>\n",
              "\n",
              "      <script>\n",
              "        const buttonEl =\n",
              "          document.querySelector('#df-9e5431a2-2dbb-4a8a-9265-8fe7268c1164 button.colab-df-convert');\n",
              "        buttonEl.style.display =\n",
              "          google.colab.kernel.accessAllowed ? 'block' : 'none';\n",
              "\n",
              "        async function convertToInteractive(key) {\n",
              "          const element = document.querySelector('#df-9e5431a2-2dbb-4a8a-9265-8fe7268c1164');\n",
              "          const dataTable =\n",
              "            await google.colab.kernel.invokeFunction('convertToInteractive',\n",
              "                                                     [key], {});\n",
              "          if (!dataTable) return;\n",
              "\n",
              "          const docLinkHtml = 'Like what you see? Visit the ' +\n",
              "            '<a target=\"_blank\" href=https://colab.research.google.com/notebooks/data_table.ipynb>data table notebook</a>'\n",
              "            + ' to learn more about interactive tables.';\n",
              "          element.innerHTML = '';\n",
              "          dataTable['output_type'] = 'display_data';\n",
              "          await google.colab.output.renderOutput(dataTable, element);\n",
              "          const docLink = document.createElement('div');\n",
              "          docLink.innerHTML = docLinkHtml;\n",
              "          element.appendChild(docLink);\n",
              "        }\n",
              "      </script>\n",
              "    </div>\n",
              "  </div>\n",
              "  "
            ]
          },
          "metadata": {},
          "execution_count": 16
        }
      ],
      "source": [
        "    # remove rows containing text not in english\n",
        "df = df.drop([2605,11358,17549,24743,25922]).reset_index(drop = True)\n",
        "    # expand contractions & lower case\n",
        "for index, row in df.iterrows():\n",
        "  df['clean_comb_text'][index]=contractions.fix(df['combined_text'][index]).lower()\n",
        "\n",
        "# Remove punctuation '!\"#$%&'()*+,-./:;<=>?@[\\]^_`{|}~'\n",
        "df['clean_comb_text'] = df['clean_comb_text'].str.replace('[^\\w\\s]','')\n",
        "\n",
        "# Remove digits\n",
        "df['clean_comb_text'] = df['clean_comb_text'].str.replace('\\d+', '')\n",
        "\n",
        "# Stemming words (eg. computing, computer, compute ==> compute)\n",
        "stemmer = SnowballStemmer(\"english\")\n",
        "df['clean_comb_text'] = df['clean_comb_text'].apply(lambda x: ' '.join([stemmer.stem(word) for word in x.split()]))\n",
        "\n",
        "# Remove Stopwords\n",
        "stop = set(stopwords.words('english'))\n",
        "df['clean_comb_text'] = df['clean_comb_text'].apply(lambda x: ' '.join([word for word in x.split() if word not in (stop)]))\n",
        "df.head(10)"
      ]
    },
    {
      "cell_type": "code",
      "execution_count": 17,
      "metadata": {
        "id": "tbEXuQ_QrmKA",
        "colab": {
          "base_uri": "https://localhost:8080/",
          "height": 301
        },
        "outputId": "66e6e693-b810-47c1-8fce-4461f9d38bc6"
      },
      "outputs": [
        {
          "output_type": "display_data",
          "data": {
            "text/plain": [
              "<Figure size 432x288 with 1 Axes>"
            ],
            "image/png": "[encoded data removed]"
          },
          "metadata": {}
        }
      ],
      "source": [
        "# Label distribution (label 0: true news, label 1: fake news)\n",
        "sns.set_theme(style=\"white\")\n",
        "C=sns.countplot(x=df['label'])\n",
        "C.set_xticklabels([\"True\",\"Fake\"])\n",
        "C.set(yticklabels=[]) # remove y-axis values\n",
        "C.set(ylabel=None) # remove y-axis label\n",
        "plt.xlabel(\"Label type\")\n",
        "for p in C.patches: # add values above the bars\n",
        "   C.annotate('{:.0f}'.format(p.get_height()), (p.get_x()+0.25, p.get_height()+0.01))\n",
        "plt.title(\"News count by label\")\n",
        "sns.despine(left=True, bottom=True) # remove boundary box\n",
        "plt.show()"
      ]
    },
    {
      "cell_type": "code",
      "source": [
        "# Word cloud graph for fake news\n",
        "df_fn = df[df.label == 1]\n",
        "text = \" \".join(body_text for body_text in df_fn.clean_comb_text)\n",
        "wordcloud = WordCloud(background_color=\"white\").generate(text)\n",
        "plt.imshow(wordcloud, interpolation='bilinear')\n",
        "plt.title(\"Word cloud graph for fake news\")\n",
        "plt.axis(\"off\")\n",
        "plt.show()"
      ],
      "metadata": {
        "id": "ml7vevZ6WB9h",
        "colab": {
          "base_uri": "https://localhost:8080/",
          "height": 214
        },
        "outputId": "b4494c9d-c634-4d75-db6b-a55bb282b17b"
      },
      "execution_count": 18,
      "outputs": [
        {
          "output_type": "display_data",
          "data": {
            "text/plain": [
              "<Figure size 432x288 with 1 Axes>"
            ],
            "image/png": "[encoded data removed]"
          },
          "metadata": {}
        }
      ]
    },
    {
      "cell_type": "code",
      "source": [
        "# Word cloud graph for true news\n",
        "df_rn = df[df.label == 0]\n",
        "text = \" \".join(body_text for body_text in df_rn.clean_comb_text)\n",
        "wordcloud = WordCloud(background_color=\"white\").generate(text)\n",
        "plt.imshow(wordcloud, interpolation='bilinear')\n",
        "plt.title(\"Word cloud graph for true news\")\n",
        "plt.axis(\"off\")\n",
        "plt.show()"
      ],
      "metadata": {
        "colab": {
          "base_uri": "https://localhost:8080/",
          "height": 214
        },
        "id": "iwl7FD4pvyDG",
        "outputId": "79d0983d-5348-46ed-ca2e-95089fdbd2b8"
      },
      "execution_count": 19,
      "outputs": [
        {
          "output_type": "display_data",
          "data": {
            "text/plain": [
              "<Figure size 432x288 with 1 Axes>"
            ],
            "image/png": "[encoded data removed]"
          },
          "metadata": {}
        }
      ]
    },
    {
      "cell_type": "code",
      "execution_count": 20,
      "metadata": {
        "colab": {
          "base_uri": "https://localhost:8080/"
        },
        "id": "0jB2QmDPe8JA",
        "outputId": "2eb44ad0-8048-49aa-da4b-f83e7f9a2ece"
      },
      "outputs": [
        {
          "output_type": "stream",
          "name": "stdout",
          "text": [
            "20796 5199\n"
          ]
        }
      ],
      "source": [
        "# Split data into training & test set\n",
        "x_train, x_test, y_train, y_test = train_test_split(df['clean_comb_text'], df['label'], test_size=(1-20800/26000), shuffle=False)\n",
        "print(len(x_train),len(x_test))"
      ]
    },
    {
      "cell_type": "code",
      "execution_count": 21,
      "metadata": {
        "id": "k9lUznVHmJi0",
        "colab": {
          "base_uri": "https://localhost:8080/"
        },
        "outputId": "4068e9a6-4f02-4489-aef7-3a3b5b3d2fbb"
      },
      "outputs": [
        {
          "output_type": "execute_result",
          "data": {
            "text/plain": [
              "(20796, 161275)"
            ]
          },
          "metadata": {},
          "execution_count": 21
        }
      ],
      "source": [
        "# Vectorizing using tfi\n",
        "vectorization = TfidfVectorizer()\n",
        "xv_train = vectorization.fit_transform(x_train)\n",
        "xv_test = vectorization.transform(x_test)\n",
        "xv_train.shape"
      ]
    },
    {
      "cell_type": "code",
      "source": [
        "'''from sklearn.decomposition import TruncatedSVD\n",
        "# Reduce features with TruncatedSVD\n",
        "svdT = TruncatedSVD(n_components=10000)\n",
        "svdTFit = svdT.fit_transform(vec_data)\n",
        "\n",
        "=>Sparse matrix, can not run PCA or SVD (RAM) => to check'''"
      ],
      "metadata": {
        "colab": {
          "base_uri": "https://localhost:8080/",
          "height": 53
        },
        "id": "QZFVdyUNjInL",
        "outputId": "3582ac3a-ec94-4a94-8e49-3b96741a266a"
      },
      "execution_count": 22,
      "outputs": [
        {
          "output_type": "execute_result",
          "data": {
            "text/plain": [
              "'from sklearn.decomposition import TruncatedSVD\\n# Reduce features with TruncatedSVD\\nsvdT = TruncatedSVD(n_components=10000)\\nsvdTFit = svdT.fit_transform(vec_data)\\n\\n=>Sparse matrix, can not run PCA or SVD (RAM) => to check'"
            ],
            "application/vnd.google.colaboratory.intrinsic+json": {
              "type": "string"
            }
          },
          "metadata": {},
          "execution_count": 22
        }
      ]
    },
    {
      "cell_type": "markdown",
      "metadata": {
        "id": "NRUshfn0kUS1"
      },
      "source": [
        "## **2. Modeling & performance evaluation**\n",
        "\n",
        "\n"
      ]
    },
    {
      "cell_type": "markdown",
      "source": [
        "### 2.1 Functions for evaluating classification performance"
      ],
      "metadata": {
        "id": "4vHBllgdWziK"
      }
    },
    {
      "cell_type": "code",
      "execution_count": 23,
      "metadata": {
        "id": "hSuV4q5vUiWw"
      },
      "outputs": [],
      "source": [
        "# Confusion matrix plot\n",
        "def plot_confusion_matrix(model_name,y_test, y_predicted):\n",
        "    '''\n",
        "    Input: predicted target values\n",
        "           true target values\n",
        "    Output: confusion matrix\n",
        "    '''\n",
        "    conf_mat = pd.DataFrame(confusion_matrix(y_test, y_predicted))  \n",
        "    fig = plt.figure(figsize=(5, 4))  \n",
        "    sns.heatmap(conf_mat, annot=True, annot_kws={\"size\": 13}, fmt=\"g\")  \n",
        "    plt.title(f\"{model_name} confusion matrix\")\n",
        "    plt.xlabel(\"Predicted Label\")\n",
        "    plt.ylabel(\"True Label\")\n",
        "    plt.show()"
      ]
    },
    {
      "cell_type": "markdown",
      "metadata": {
        "id": "hBj14ou7UgHq"
      },
      "source": [
        "### 2.2 Support vector machine (SVM)"
      ]
    },
    {
      "cell_type": "code",
      "execution_count": 79,
      "metadata": {
        "colab": {
          "base_uri": "https://localhost:8080/"
        },
        "outputId": "8a77fa61-828e-4828-ea99-8983c38fd037",
        "id": "ZBJhR0VPcLlV"
      },
      "outputs": [
        {
          "output_type": "execute_result",
          "data": {
            "text/plain": [
              "{'C': 1.0,\n",
              " 'break_ties': False,\n",
              " 'cache_size': 200,\n",
              " 'class_weight': None,\n",
              " 'coef0': 0.0,\n",
              " 'decision_function_shape': 'ovr',\n",
              " 'degree': 3,\n",
              " 'gamma': 'scale',\n",
              " 'kernel': 'rbf',\n",
              " 'max_iter': -1,\n",
              " 'probability': False,\n",
              " 'random_state': None,\n",
              " 'shrinking': True,\n",
              " 'tol': 0.001,\n",
              " 'verbose': False}"
            ]
          },
          "metadata": {},
          "execution_count": 79
        }
      ],
      "source": [
        "# Train using the default model\n",
        "svm = SVC()\n",
        "svm.get_params()"
      ]
    },
    {
      "cell_type": "code",
      "execution_count": 80,
      "metadata": {
        "colab": {
          "base_uri": "https://localhost:8080/"
        },
        "outputId": "099f4975-723b-4a33-ab96-6752e6388ec9",
        "id": "f34s-AUzcLlW"
      },
      "outputs": [
        {
          "output_type": "stream",
          "name": "stdout",
          "text": [
            "              precision    recall  f1-score   support\n",
            "\n",
            "           0       1.00      1.00      1.00     10387\n",
            "           1       1.00      1.00      1.00     10409\n",
            "\n",
            "    accuracy                           1.00     20796\n",
            "   macro avg       1.00      1.00      1.00     20796\n",
            "weighted avg       1.00      1.00      1.00     20796\n",
            "\n"
          ]
        }
      ],
      "source": [
        "# Fit training data to the model and check accuracy\n",
        "svm.fit(xv_train,y_train)\n",
        "svm_pred_train =svm.predict(xv_train)\n",
        "print(classification_report(y_train, svm_pred_train))"
      ]
    },
    {
      "cell_type": "code",
      "source": [
        "# Apply the model on test dataset and check accuracy\n",
        "svm_pred_test =svm.predict(xv_test)\n",
        "print(classification_report(y_test, svm_pred_test))"
      ],
      "metadata": {
        "colab": {
          "base_uri": "https://localhost:8080/"
        },
        "id": "TlA2i-pMnj7a",
        "outputId": "d697e401-9fbb-43df-af73-5a9fe82d7a63"
      },
      "execution_count": 81,
      "outputs": [
        {
          "output_type": "stream",
          "name": "stdout",
          "text": [
            "              precision    recall  f1-score   support\n",
            "\n",
            "           0       0.59      0.65      0.62      2339\n",
            "           1       0.68      0.63      0.65      2860\n",
            "\n",
            "    accuracy                           0.64      5199\n",
            "   macro avg       0.64      0.64      0.63      5199\n",
            "weighted avg       0.64      0.64      0.64      5199\n",
            "\n"
          ]
        }
      ]
    },
    {
      "cell_type": "code",
      "execution_count": 83,
      "metadata": {
        "colab": {
          "base_uri": "https://localhost:8080/"
        },
        "outputId": "826a6648-62a6-498b-8ca0-495cfbbb9d58",
        "id": "MqYKCFrRcLlX"
      },
      "outputs": [
        {
          "output_type": "stream",
          "name": "stdout",
          "text": [
            "Fitting 5 folds for each of 10 candidates, totalling 50 fits\n"
          ]
        },
        {
          "output_type": "stream",
          "name": "stderr",
          "text": [
            "/usr/local/lib/python3.8/dist-packages/joblib/externals/loky/process_executor.py:700: UserWarning: A worker stopped while some jobs were given to the executor. This can be caused by a too short worker timeout or by a memory leak.\n",
            "  warnings.warn(\n"
          ]
        },
        {
          "output_type": "execute_result",
          "data": {
            "text/plain": [
              "GridSearchCV(cv=5, estimator=SVC(), n_jobs=-1,\n",
              "             param_grid={'C': [0.01, 0.1, 1, 10, 100],\n",
              "                         'kernel': ['rbf', 'linear']},\n",
              "             verbose=5)"
            ]
          },
          "metadata": {},
          "execution_count": 83
        }
      ],
      "source": [
        "# Tune the parameters\n",
        "params = {'C': [0.01, 0.1,1, 10, 100],\n",
        "          'kernel': ['rbf','linear']}\n",
        "\n",
        "tuning_svm = GridSearchCV(SVC(), param_grid=params, n_jobs=-1, cv=5, verbose=5)\n",
        "tuning_svm.fit(xv_train, y_train)"
      ]
    },
    {
      "cell_type": "code",
      "execution_count": 84,
      "metadata": {
        "colab": {
          "base_uri": "https://localhost:8080/"
        },
        "outputId": "c2435e7d-8bc6-4345-b494-d3a0f41bb0ba",
        "id": "eiDS00OwcLlX"
      },
      "outputs": [
        {
          "output_type": "stream",
          "name": "stdout",
          "text": [
            "best parameters: {'C': 1, 'kernel': 'linear'}\n",
            "Mean test score at best performed model: 0.9724946478443413\n",
            "Standard deviation of test score at best performed model: 0.0008963281054411196\n"
          ]
        }
      ],
      "source": [
        "# Cross-validation metrics\n",
        "print(\"best parameters:\", tuning_svm.best_params_)\n",
        "print(\"Mean test score at best performed model:\", tuning_svm.cv_results_['mean_test_score'][tuning_svm.best_index_])\n",
        "print(\"Standard deviation of test score at best performed model:\",tuning_svm.cv_results_['std_test_score'][tuning_svm.best_index_])"
      ]
    },
    {
      "cell_type": "code",
      "source": [
        "# Model accuracy on test set\n",
        "tune_pred_test=tuning_svm.predict(xv_test)\n",
        "tune_acc = accuracy_score(y_test, tune_pred_test)\n",
        "print(\"Accuracy score of tuned model:\",tune_acc)\n",
        "if tune_acc < accuracy_score(y_test, svm_pred_test):\n",
        "  print(\"Tuned model performs worse than default model!\")\n",
        "else:\n",
        "  print(\"Tuned model performs better than default model\")"
      ],
      "metadata": {
        "colab": {
          "base_uri": "https://localhost:8080/"
        },
        "id": "26-q2iTE2Trj",
        "outputId": "e132333d-c71a-45b6-a7a3-75653e810601"
      },
      "execution_count": 88,
      "outputs": [
        {
          "output_type": "stream",
          "name": "stdout",
          "text": [
            "Accuracy score of tuned model: 0.6351221388728602\n",
            "Tuned model performs worse than default model!\n"
          ]
        }
      ]
    },
    {
      "cell_type": "code",
      "source": [
        "# Check overfitting\n",
        "C = [0.001, 0.003, 0.005, 0.007, 0.01, 0.05, 0.1, 0.5] # reduce C (regularization)\n",
        "train_accuracy = []\n",
        "test_accuracy = []\n",
        "for c in C:\n",
        "  # call svm with different c parameters\n",
        "  model = SVC(C= c, kernel= 'linear')\n",
        "  model.fit(xv_train, y_train)\n",
        "  # calculate accuracy score on train data\n",
        "  pred_train = model.predict(xv_train)\n",
        "  train_accuracy.append(accuracy_score(y_train, pred_train))\n",
        "  # calculate accuracy score on test data\n",
        "  pred_test = model.predict(xv_test)\n",
        "  test_accuracy.append(accuracy_score(y_test, pred_test))\n",
        "\n",
        "# Plot accuracy score\n",
        "plt.plot(C, train_accuracy, label = \"Train\")\n",
        "plt.plot(C, test_accuracy, label = \"Validation\")\n",
        "plt.xlabel(\"C\")\n",
        "plt.ylabel(\"Accuracy score\")\n",
        "plt.legend()\n",
        "plt.show()"
      ],
      "metadata": {
        "colab": {
          "base_uri": "https://localhost:8080/",
          "height": 285
        },
        "id": "u9H0xfCn3v5W",
        "outputId": "9fe921ca-25ac-4cc9-bdb6-3cc22800935b"
      },
      "execution_count": 93,
      "outputs": [
        {
          "output_type": "display_data",
          "data": {
            "text/plain": [
              "<Figure size 432x288 with 1 Axes>"
            ],
            "image/png": "[encoded data removed]"
          },
          "metadata": {}
        }
      ]
    },
    {
      "cell_type": "code",
      "source": [
        "# Check running time of the best model\n",
        "start = time.time()\n",
        "best_svm = SVC(C= 0.007, kernel= 'linear')\n",
        "best_svm.fit(xv_train, y_train)\n",
        "tune_pred_test = best_svm.predict(xv_test)\n",
        "end = time.time()\n",
        "svm_time = end - start\n",
        "svm_acc = accuracy_score(y_test, tune_pred_test)\n",
        "print(svm_time)\n",
        "print(svm_acc)"
      ],
      "metadata": {
        "colab": {
          "base_uri": "https://localhost:8080/"
        },
        "id": "xJkPRUYzqFK0",
        "outputId": "9fe07f64-5819-4081-9268-1c708f1e0541"
      },
      "execution_count": 84,
      "outputs": [
        {
          "output_type": "stream",
          "name": "stdout",
          "text": [
            "59.11946630477905\n",
            "0.704750913637238\n"
          ]
        }
      ]
    },
    {
      "cell_type": "code",
      "execution_count": 98,
      "metadata": {
        "colab": {
          "base_uri": "https://localhost:8080/",
          "height": 457
        },
        "outputId": "2ccdab4c-24ea-4f5d-9e67-de1d677c404f",
        "id": "zkv2XlHscLlW"
      },
      "outputs": [
        {
          "output_type": "stream",
          "name": "stdout",
          "text": [
            "              precision    recall  f1-score   support\n",
            "\n",
            "           0       0.75      0.52      0.61      2339\n",
            "           1       0.68      0.86      0.76      2860\n",
            "\n",
            "    accuracy                           0.70      5199\n",
            "   macro avg       0.72      0.69      0.69      5199\n",
            "weighted avg       0.71      0.70      0.69      5199\n",
            "\n"
          ]
        },
        {
          "output_type": "display_data",
          "data": {
            "text/plain": [
              "<Figure size 360x288 with 2 Axes>"
            ],
            "image/png": "[encoded data removed]"
          },
          "metadata": {}
        }
      ],
      "source": [
        "# Evaluate best model\n",
        "print(classification_report(y_test, tune_pred_test))\n",
        "plot_confusion_matrix(\"SVM\",y_test,tune_pred_test)"
      ]
    },
    {
      "cell_type": "markdown",
      "metadata": {
        "id": "eGot6SEGkoGx"
      },
      "source": [
        "### 2.2 Naive bayes"
      ]
    },
    {
      "cell_type": "code",
      "execution_count": 24,
      "metadata": {
        "id": "uodMqSIDQ0cP",
        "colab": {
          "base_uri": "https://localhost:8080/"
        },
        "outputId": "96532798-e59b-4eaf-bb7b-bab767eb1d28"
      },
      "outputs": [
        {
          "output_type": "execute_result",
          "data": {
            "text/plain": [
              "{'alpha': 1.0, 'binarize': 0.0, 'class_prior': None, 'fit_prior': True}"
            ]
          },
          "metadata": {},
          "execution_count": 24
        }
      ],
      "source": [
        "# Train using the default model\n",
        "nb=BernoulliNB()\n",
        "nb.get_params()"
      ]
    },
    {
      "cell_type": "code",
      "source": [
        "# Fit training data to the model and check accuracy\n",
        "nb.fit(xv_train,y_train)\n",
        "nb_pred_train =nb.predict(xv_train)\n",
        "print(classification_report(y_train, nb_pred_train))"
      ],
      "metadata": {
        "colab": {
          "base_uri": "https://localhost:8080/"
        },
        "id": "qSL-UjLc07O2",
        "outputId": "addfa980-15ec-4d91-9401-8017e1531818"
      },
      "execution_count": 25,
      "outputs": [
        {
          "output_type": "stream",
          "name": "stdout",
          "text": [
            "              precision    recall  f1-score   support\n",
            "\n",
            "           0       0.84      0.74      0.79     10387\n",
            "           1       0.77      0.86      0.81     10409\n",
            "\n",
            "    accuracy                           0.80     20796\n",
            "   macro avg       0.81      0.80      0.80     20796\n",
            "weighted avg       0.81      0.80      0.80     20796\n",
            "\n"
          ]
        }
      ]
    },
    {
      "cell_type": "code",
      "source": [
        "# Apply the model on test dataset and check accuracy\n",
        "nb_pred_test =nb.predict(xv_test)\n",
        "print(classification_report(y_test, nb_pred_test))"
      ],
      "metadata": {
        "colab": {
          "base_uri": "https://localhost:8080/"
        },
        "id": "pjB7G4TlHSlF",
        "outputId": "36c8189d-d6c8-4af1-c470-713d317ef868"
      },
      "execution_count": 26,
      "outputs": [
        {
          "output_type": "stream",
          "name": "stdout",
          "text": [
            "              precision    recall  f1-score   support\n",
            "\n",
            "           0       0.81      0.83      0.82      2339\n",
            "           1       0.86      0.85      0.85      2860\n",
            "\n",
            "    accuracy                           0.84      5199\n",
            "   macro avg       0.84      0.84      0.84      5199\n",
            "weighted avg       0.84      0.84      0.84      5199\n",
            "\n"
          ]
        }
      ]
    },
    {
      "cell_type": "code",
      "source": [
        "# Tune the parameters\n",
        "params = {'alpha': [1, 3, 7, 10.0],\n",
        "          'fit_prior': [None, True, False],\n",
        "          'class_prior': [None, [0.1,]* 2, ],\n",
        "          'binarize': [0, 1, 5, 10.0]\n",
        "         }\n",
        "\n",
        "tuning_nb = GridSearchCV(BernoulliNB(), param_grid=params, n_jobs=-1, cv=5, verbose=5)\n",
        "tuning_nb.fit(xv_train, y_train)"
      ],
      "metadata": {
        "colab": {
          "base_uri": "https://localhost:8080/"
        },
        "id": "mWGRDZX_IdGT",
        "outputId": "2efafc4e-6810-43d7-c6c5-13145237793c"
      },
      "execution_count": 27,
      "outputs": [
        {
          "output_type": "stream",
          "name": "stdout",
          "text": [
            "Fitting 5 folds for each of 96 candidates, totalling 480 fits\n"
          ]
        },
        {
          "output_type": "execute_result",
          "data": {
            "text/plain": [
              "GridSearchCV(cv=5, estimator=BernoulliNB(), n_jobs=-1,\n",
              "             param_grid={'alpha': [1, 3, 7, 10.0], 'binarize': [0, 1, 5, 10.0],\n",
              "                         'class_prior': [None, [0.1, 0.1]],\n",
              "                         'fit_prior': [None, True, False]},\n",
              "             verbose=5)"
            ]
          },
          "metadata": {},
          "execution_count": 27
        }
      ]
    },
    {
      "cell_type": "code",
      "source": [
        "# Cross-validation metrics\n",
        "print(\"best parameters:\", tuning_nb.best_params_)\n",
        "print(\"Mean test score at best performed model:\", tuning_nb.cv_results_['mean_test_score'][tuning_nb.best_index_])\n",
        "print(\"Standard deviation of test score at best performed model:\",tuning_nb.cv_results_['std_test_score'][tuning_nb.best_index_])"
      ],
      "metadata": {
        "colab": {
          "base_uri": "https://localhost:8080/"
        },
        "id": "9o_SERv7Ivmg",
        "outputId": "e96bf9cd-8834-42f5-def1-19bb0332908e"
      },
      "execution_count": 28,
      "outputs": [
        {
          "output_type": "stream",
          "name": "stdout",
          "text": [
            "best parameters: {'alpha': 1, 'binarize': 0, 'class_prior': None, 'fit_prior': None}\n",
            "Mean test score at best performed model: 0.777698769582185\n",
            "Standard deviation of test score at best performed model: 0.012553236904119486\n"
          ]
        }
      ]
    },
    {
      "cell_type": "code",
      "source": [
        "# Model accuracy on test set\n",
        "tune_pred_test=tuning_nb.predict(xv_test)\n",
        "tune_acc = accuracy_score(y_test, tune_pred_test)\n",
        "print(\"Accuracy score of tuned model:\",tune_acc)\n",
        "if tune_acc < accuracy_score(y_test, nb_pred_test):\n",
        "  print(\"Tuned model performs worse than default model!\")\n",
        "else:\n",
        "  print(\"Tuned model performs better than default model\")"
      ],
      "metadata": {
        "colab": {
          "base_uri": "https://localhost:8080/"
        },
        "id": "BCzYhV1zI5gt",
        "outputId": "a5c997ea-75da-4ec6-d324-ae9141cc5637"
      },
      "execution_count": 29,
      "outputs": [
        {
          "output_type": "stream",
          "name": "stdout",
          "text": [
            "Accuracy score of tuned model: 0.8384304673975764\n",
            "Tuned model performs better than default model\n"
          ]
        }
      ]
    },
    {
      "cell_type": "code",
      "source": [
        "# Check running time of the best model\n",
        "start = time.time()\n",
        "best_nb = BernoulliNB(alpha= 1, binarize= 0, class_prior= None, fit_prior= None)\n",
        "best_nb.fit(xv_train, y_train)\n",
        "tune_pred_test = best_nb.predict(xv_test)\n",
        "end = time.time()\n",
        "nb_time = end - start\n",
        "nb_acc = accuracy_score(y_test, tune_pred_test)\n",
        "print(nb_time)\n",
        "print(nb_acc)"
      ],
      "metadata": {
        "colab": {
          "base_uri": "https://localhost:8080/"
        },
        "id": "cgQP19kgJBEy",
        "outputId": "10f92d14-457b-4903-ace6-608284f93b3c"
      },
      "execution_count": 30,
      "outputs": [
        {
          "output_type": "stream",
          "name": "stdout",
          "text": [
            "0.11014485359191895\n",
            "0.8384304673975764\n"
          ]
        }
      ]
    },
    {
      "cell_type": "code",
      "source": [
        "# Evaluate best model\n",
        "print(classification_report(y_test, tune_pred_test))\n",
        "plot_confusion_matrix(\"NB\",y_test,tune_pred_test)"
      ],
      "metadata": {
        "colab": {
          "base_uri": "https://localhost:8080/",
          "height": 457
        },
        "id": "ijn6osGNJMIm",
        "outputId": "26946b64-3890-47ea-a0e6-4d40c0b88bb4"
      },
      "execution_count": 31,
      "outputs": [
        {
          "output_type": "stream",
          "name": "stdout",
          "text": [
            "              precision    recall  f1-score   support\n",
            "\n",
            "           0       0.81      0.83      0.82      2339\n",
            "           1       0.86      0.85      0.85      2860\n",
            "\n",
            "    accuracy                           0.84      5199\n",
            "   macro avg       0.84      0.84      0.84      5199\n",
            "weighted avg       0.84      0.84      0.84      5199\n",
            "\n"
          ]
        },
        {
          "output_type": "display_data",
          "data": {
            "text/plain": [
              "<Figure size 360x288 with 2 Axes>"
            ],
            "image/png": "[encoded data removed]"
          },
          "metadata": {}
        }
      ]
    },
    {
      "cell_type": "markdown",
      "metadata": {
        "id": "uXuCVfwRktHT"
      },
      "source": [
        "### 2.3 Logistics regression"
      ]
    },
    {
      "cell_type": "code",
      "execution_count": 32,
      "metadata": {
        "id": "CW2oloeakxNr",
        "colab": {
          "base_uri": "https://localhost:8080/"
        },
        "outputId": "85f03835-9ae0-4646-e75c-dee7ae4adff8"
      },
      "outputs": [
        {
          "output_type": "execute_result",
          "data": {
            "text/plain": [
              "{'C': 1.0,\n",
              " 'class_weight': None,\n",
              " 'dual': False,\n",
              " 'fit_intercept': True,\n",
              " 'intercept_scaling': 1,\n",
              " 'l1_ratio': None,\n",
              " 'max_iter': 100,\n",
              " 'multi_class': 'auto',\n",
              " 'n_jobs': None,\n",
              " 'penalty': 'l2',\n",
              " 'random_state': None,\n",
              " 'solver': 'lbfgs',\n",
              " 'tol': 0.0001,\n",
              " 'verbose': 0,\n",
              " 'warm_start': False}"
            ]
          },
          "metadata": {},
          "execution_count": 32
        }
      ],
      "source": [
        "# Train using the default model\n",
        "lr = LogisticRegression()\n",
        "lr.get_params()"
      ]
    },
    {
      "cell_type": "code",
      "source": [
        "# Fit training data to the model and check accuracy\n",
        "lr.fit(xv_train,y_train)\n",
        "lr_pred_train =lr.predict(xv_train)\n",
        "print(classification_report(y_train, lr_pred_train))"
      ],
      "metadata": {
        "colab": {
          "base_uri": "https://localhost:8080/"
        },
        "id": "eCXW9fqkPeso",
        "outputId": "682b2f55-7319-4bac-deac-b15e2a2e35f4"
      },
      "execution_count": 36,
      "outputs": [
        {
          "output_type": "stream",
          "name": "stdout",
          "text": [
            "              precision    recall  f1-score   support\n",
            "\n",
            "           0       0.98      0.98      0.98     10387\n",
            "           1       0.98      0.98      0.98     10409\n",
            "\n",
            "    accuracy                           0.98     20796\n",
            "   macro avg       0.98      0.98      0.98     20796\n",
            "weighted avg       0.98      0.98      0.98     20796\n",
            "\n"
          ]
        }
      ]
    },
    {
      "cell_type": "code",
      "source": [
        "# Apply the model on test dataset and check accuracy\n",
        "lr_pred_test =lr.predict(xv_test)\n",
        "print(classification_report(y_test, lr_pred_test))"
      ],
      "metadata": {
        "colab": {
          "base_uri": "https://localhost:8080/"
        },
        "id": "_LBtqMUsPrOe",
        "outputId": "139c5298-6272-4275-aec8-6e7e6ce1d9f4"
      },
      "execution_count": 37,
      "outputs": [
        {
          "output_type": "stream",
          "name": "stdout",
          "text": [
            "              precision    recall  f1-score   support\n",
            "\n",
            "           0       0.59      0.65      0.62      2339\n",
            "           1       0.68      0.63      0.66      2860\n",
            "\n",
            "    accuracy                           0.64      5199\n",
            "   macro avg       0.64      0.64      0.64      5199\n",
            "weighted avg       0.64      0.64      0.64      5199\n",
            "\n"
          ]
        }
      ]
    },
    {
      "cell_type": "code",
      "source": [
        "# Tune the parameters\n",
        "params = {'solver': ['newton-cg', 'lbfgs', 'liblinear'],\n",
        "          'penalty':['l1','l2'],\n",
        "          'C':[10, 1.0, 0.1]}\n",
        "\n",
        "tuning_lr = GridSearchCV(LogisticRegression(), param_grid=params, n_jobs=-1, cv=5, verbose=5)\n",
        "tuning_lr.fit(xv_train, y_train)"
      ],
      "metadata": {
        "id": "bBoKlQSbPvZn"
      },
      "execution_count": null,
      "outputs": []
    },
    {
      "cell_type": "code",
      "source": [
        "# Cross-validation metrics\n",
        "print(\"best parameters:\", tuning_lr.best_params_)\n",
        "print(\"Mean test score at best performed model:\", tuning_lr.cv_results_['mean_test_score'][tuning_lr.best_index_])\n",
        "print(\"Standard deviation of test score at best performed model:\",tuning_lr.cv_results_['std_test_score'][tuning_lr.best_index_])"
      ],
      "metadata": {
        "colab": {
          "base_uri": "https://localhost:8080/"
        },
        "id": "7QeJsg64QNZs",
        "outputId": "9c99375f-6796-409f-f974-2f8298efb90f"
      },
      "execution_count": 38,
      "outputs": [
        {
          "output_type": "stream",
          "name": "stdout",
          "text": [
            "best parameters: {'C': 10, 'penalty': 'l1', 'solver': 'liblinear'}\n",
            "Mean test score at best performed model: 0.9731678403647328\n",
            "Standard deviation of test score at best performed model: 0.0009220813455136233\n"
          ]
        }
      ]
    },
    {
      "cell_type": "code",
      "source": [
        "# Model accuracy on test set\n",
        "tune_pred_test=tuning_lr.predict(xv_test)\n",
        "tune_acc = accuracy_score(y_test, tune_pred_test)\n",
        "print(\"Accuracy score of tuned model:\",tune_acc)\n",
        "if tune_acc < accuracy_score(y_test, lr_pred_test):\n",
        "  print(\"Tuned model performs worse than default model!\")\n",
        "else:\n",
        "  print(\"Tuned model performs better than default model\")"
      ],
      "metadata": {
        "colab": {
          "base_uri": "https://localhost:8080/"
        },
        "id": "faFDuvTRQTbw",
        "outputId": "cf04d039-2f40-404c-9b52-f8c3fdd72a81"
      },
      "execution_count": 39,
      "outputs": [
        {
          "output_type": "stream",
          "name": "stdout",
          "text": [
            "Accuracy score of tuned model: 0.6324293133294865\n",
            "Tuned model performs worse than default model!\n"
          ]
        }
      ]
    },
    {
      "cell_type": "code",
      "source": [
        "# Check overfitting\n",
        "C = [0.00001,0.00005, 0.0001, 0.0005, 0.001,0.002, 0.003, 0.005, 0.006,0.007, 0.015] # reduce C (regularization)\n",
        "train_accuracy = []\n",
        "test_accuracy = []\n",
        "for c in C:\n",
        "  # call svm with different c parameters\n",
        "  model = LogisticRegression(C= c)\n",
        "  model.fit(xv_train, y_train)\n",
        "  # calculate accuracy score on train data\n",
        "  pred_train = model.predict(xv_train)\n",
        "  train_accuracy.append(accuracy_score(y_train, pred_train))\n",
        "  # calculate accuracy score on test data\n",
        "  pred_test = model.predict(xv_test)\n",
        "  test_accuracy.append(accuracy_score(y_test, pred_test))\n",
        "\n",
        "# Plot accuracy score\n",
        "plt.plot(C, train_accuracy, label = \"Train\")\n",
        "plt.plot(C, test_accuracy, label = \"Validation\")\n",
        "plt.xlabel(\"C\")\n",
        "plt.ylabel(\"Accuracy score\")\n",
        "plt.legend()\n",
        "plt.show()"
      ],
      "metadata": {
        "colab": {
          "base_uri": "https://localhost:8080/",
          "height": 285
        },
        "id": "lowilA4iQsJt",
        "outputId": "de07e03f-675d-47bd-8c19-70719a3f94a3"
      },
      "execution_count": 44,
      "outputs": [
        {
          "output_type": "display_data",
          "data": {
            "text/plain": [
              "<Figure size 432x288 with 1 Axes>"
            ],
            "image/png": "[encoded data removed]"
          },
          "metadata": {}
        }
      ]
    },
    {
      "cell_type": "code",
      "source": [
        "# Check running time of the best model\n",
        "start = time.time()\n",
        "best_lr = LogisticRegression(C=0.0001)\n",
        "best_lr.fit(xv_train, y_train)\n",
        "tune_pred_test = best_lr.predict(xv_test)\n",
        "end = time.time()\n",
        "lr_time = end - start\n",
        "lr_acc = accuracy_score(y_test, tune_pred_test)\n",
        "print(lr_time)\n",
        "print(lr_acc)"
      ],
      "metadata": {
        "colab": {
          "base_uri": "https://localhost:8080/"
        },
        "id": "Hwx6dkFbQsQ2",
        "outputId": "7fe11cb2-fe77-426d-f35c-53e438299e27"
      },
      "execution_count": 47,
      "outputs": [
        {
          "output_type": "stream",
          "name": "stdout",
          "text": [
            "1.530188798904419\n",
            "0.7034045008655511\n"
          ]
        }
      ]
    },
    {
      "cell_type": "code",
      "source": [
        "# Evaluate best model\n",
        "print(classification_report(y_test, tune_pred_test))\n",
        "plot_confusion_matrix(\"LR\",y_test,tune_pred_test)"
      ],
      "metadata": {
        "colab": {
          "base_uri": "https://localhost:8080/",
          "height": 457
        },
        "id": "sqZlQB3nQskH",
        "outputId": "88e280ae-16ab-4161-eb5d-136c70b8a346"
      },
      "execution_count": 48,
      "outputs": [
        {
          "output_type": "stream",
          "name": "stdout",
          "text": [
            "              precision    recall  f1-score   support\n",
            "\n",
            "           0       0.77      0.49      0.60      2339\n",
            "           1       0.68      0.88      0.77      2860\n",
            "\n",
            "    accuracy                           0.70      5199\n",
            "   macro avg       0.72      0.68      0.68      5199\n",
            "weighted avg       0.72      0.70      0.69      5199\n",
            "\n"
          ]
        },
        {
          "output_type": "display_data",
          "data": {
            "text/plain": [
              "<Figure size 360x288 with 2 Axes>"
            ],
            "image/png": "[encoded data removed]"
          },
          "metadata": {}
        }
      ]
    },
    {
      "cell_type": "markdown",
      "source": [
        "### 2.4 KNN\n",
        "\n"
      ],
      "metadata": {
        "id": "qtSMZLTUURK6"
      }
    },
    {
      "cell_type": "code",
      "source": [
        "# Train using the default model\n",
        "knn = KNeighborsClassifier()\n",
        "knn.get_params()"
      ],
      "metadata": {
        "colab": {
          "base_uri": "https://localhost:8080/"
        },
        "id": "G2XnPPPZUXXK",
        "outputId": "c02fd706-1736-487f-9470-eb68ab53de5d"
      },
      "execution_count": 50,
      "outputs": [
        {
          "output_type": "execute_result",
          "data": {
            "text/plain": [
              "{'algorithm': 'auto',\n",
              " 'leaf_size': 30,\n",
              " 'metric': 'minkowski',\n",
              " 'metric_params': None,\n",
              " 'n_jobs': None,\n",
              " 'n_neighbors': 5,\n",
              " 'p': 2,\n",
              " 'weights': 'uniform'}"
            ]
          },
          "metadata": {},
          "execution_count": 50
        }
      ]
    },
    {
      "cell_type": "code",
      "source": [
        "# Fit training data to the model and check accuracy\n",
        "knn.fit(xv_train,y_train)\n",
        "knn_pred_train =knn.predict(xv_train)\n",
        "print(classification_report(y_train, knn_pred_train))"
      ],
      "metadata": {
        "colab": {
          "base_uri": "https://localhost:8080/"
        },
        "id": "v30c55ZIUvcv",
        "outputId": "5019b61d-7fda-4d7e-a83f-253d7d644946"
      },
      "execution_count": 51,
      "outputs": [
        {
          "output_type": "stream",
          "name": "stdout",
          "text": [
            "              precision    recall  f1-score   support\n",
            "\n",
            "           0       0.87      0.95      0.91     10387\n",
            "           1       0.95      0.86      0.90     10409\n",
            "\n",
            "    accuracy                           0.91     20796\n",
            "   macro avg       0.91      0.91      0.91     20796\n",
            "weighted avg       0.91      0.91      0.91     20796\n",
            "\n"
          ]
        }
      ]
    },
    {
      "cell_type": "code",
      "source": [
        "# Apply the model on test dataset and check accuracy\n",
        "knn_pred_test =knn.predict(xv_test)\n",
        "print(classification_report(y_test, knn_pred_test))"
      ],
      "metadata": {
        "colab": {
          "base_uri": "https://localhost:8080/"
        },
        "id": "78JOOw3HdObS",
        "outputId": "0e1e7260-b581-4b73-9d33-1eacb430b0b1"
      },
      "execution_count": 52,
      "outputs": [
        {
          "output_type": "stream",
          "name": "stdout",
          "text": [
            "              precision    recall  f1-score   support\n",
            "\n",
            "           0       0.53      0.66      0.59      2339\n",
            "           1       0.65      0.51      0.57      2860\n",
            "\n",
            "    accuracy                           0.58      5199\n",
            "   macro avg       0.59      0.59      0.58      5199\n",
            "weighted avg       0.59      0.58      0.58      5199\n",
            "\n"
          ]
        }
      ]
    },
    {
      "cell_type": "code",
      "source": [
        "# Tune the parameters\n",
        "params = {'n_neighbors': [5, 10, 15, 20, 30, 60, 100]}\n",
        "\n",
        "tuning_knn = GridSearchCV(KNeighborsClassifier(), param_grid=params, n_jobs=-1, cv=5, verbose=5)\n",
        "tuning_knn.fit(xv_train, y_train)"
      ],
      "metadata": {
        "colab": {
          "base_uri": "https://localhost:8080/"
        },
        "id": "_-LaKi6MdX0z",
        "outputId": "6e2c752e-1113-4170-97c5-ade1919a4218"
      },
      "execution_count": 53,
      "outputs": [
        {
          "output_type": "stream",
          "name": "stdout",
          "text": [
            "Fitting 5 folds for each of 7 candidates, totalling 35 fits\n"
          ]
        },
        {
          "output_type": "execute_result",
          "data": {
            "text/plain": [
              "GridSearchCV(cv=5, estimator=KNeighborsClassifier(), n_jobs=-1,\n",
              "             param_grid={'n_neighbors': [5, 10, 15, 20, 30, 60, 100]},\n",
              "             verbose=5)"
            ]
          },
          "metadata": {},
          "execution_count": 53
        }
      ]
    },
    {
      "cell_type": "code",
      "source": [
        "# Cross-validation metrics\n",
        "print(\"best parameters:\", tuning_knn.best_params_)\n",
        "print(\"Mean test score at best performed model:\", tuning_knn.cv_results_['mean_test_score'][tuning_knn.best_index_])\n",
        "print(\"Standard deviation of test score at best performed model:\",tuning_knn.cv_results_['std_test_score'][tuning_knn.best_index_])"
      ],
      "metadata": {
        "colab": {
          "base_uri": "https://localhost:8080/"
        },
        "id": "oYWAvtAee-vO",
        "outputId": "6484e243-6c37-4d15-9624-76d7308555f2"
      },
      "execution_count": 54,
      "outputs": [
        {
          "output_type": "stream",
          "name": "stdout",
          "text": [
            "best parameters: {'n_neighbors': 5}\n",
            "Mean test score at best performed model: 0.8583860187360127\n",
            "Standard deviation of test score at best performed model: 0.004163135827292136\n"
          ]
        }
      ]
    },
    {
      "cell_type": "code",
      "source": [
        "# Model accuracy on test set\n",
        "tune_pred_test=tuning_knn.predict(xv_test)\n",
        "tune_acc = accuracy_score(y_test, tune_pred_test)\n",
        "print(\"Accuracy score of tuned model:\",tune_acc)\n",
        "if tune_acc < accuracy_score(y_test, knn_pred_test):\n",
        "  print(\"Tuned model performs worse than default model!\")\n",
        "else:\n",
        "  print(\"Tuned model performs better than default model\")"
      ],
      "metadata": {
        "colab": {
          "base_uri": "https://localhost:8080/"
        },
        "id": "K8vBWOBKfTmX",
        "outputId": "25232ce0-95b9-4f23-f24d-73df649ec36b"
      },
      "execution_count": 55,
      "outputs": [
        {
          "output_type": "stream",
          "name": "stdout",
          "text": [
            "Accuracy score of tuned model: 0.5801115599153683\n",
            "Tuned model performs better than default model\n"
          ]
        }
      ]
    },
    {
      "cell_type": "code",
      "source": [
        "# Check overfitting\n",
        "K = [1, 3, 5, 10, 15, 20, 30, 60] \n",
        "train_accuracy = []\n",
        "test_accuracy = []\n",
        "for k in K:\n",
        "  # call knn with different k parameters\n",
        "  model = KNeighborsClassifier(n_neighbors = k)\n",
        "  model.fit(xv_train, y_train)\n",
        "  # calculate accuracy score on train data\n",
        "  pred_train = model.predict(xv_train)\n",
        "  train_accuracy.append(accuracy_score(y_train, pred_train))\n",
        "  # calculate accuracy score on test data\n",
        "  pred_test = model.predict(xv_test)\n",
        "  test_accuracy.append(accuracy_score(y_test, pred_test))\n",
        "\n",
        "# Plot accuracy score\n",
        "plt.plot(K, train_accuracy, label = \"Train\")\n",
        "plt.plot(K, test_accuracy, label = \"Validation\")\n",
        "plt.xlabel(\"n_neighbors\")\n",
        "plt.ylabel(\"Accuracy score\")\n",
        "plt.legend()\n",
        "plt.show()"
      ],
      "metadata": {
        "colab": {
          "base_uri": "https://localhost:8080/",
          "height": 285
        },
        "id": "dtPQ8B2ofEg5",
        "outputId": "512febca-9fb7-438a-ff32-9d60d4371575"
      },
      "execution_count": 57,
      "outputs": [
        {
          "output_type": "display_data",
          "data": {
            "text/plain": [
              "<Figure size 432x288 with 1 Axes>"
            ],
            "image/png": "[encoded data removed]"
          },
          "metadata": {}
        }
      ]
    },
    {
      "cell_type": "code",
      "source": [
        "# Check running time of the best model\n",
        "start = time.time()\n",
        "best_knn = KNeighborsClassifier(n_neighbors=15)\n",
        "best_knn.fit(xv_train, y_train)\n",
        "tune_pred_test = best_knn.predict(xv_test)\n",
        "end = time.time()\n",
        "knn_time = end - start\n",
        "knn_acc = accuracy_score(y_test, tune_pred_test)\n",
        "print(knn_time)\n",
        "print(knn_acc)"
      ],
      "metadata": {
        "colab": {
          "base_uri": "https://localhost:8080/"
        },
        "id": "XyiQXoxQfick",
        "outputId": "70a67df6-ad6a-48fe-d731-8241d7e9e015"
      },
      "execution_count": 86,
      "outputs": [
        {
          "output_type": "stream",
          "name": "stdout",
          "text": [
            "20.77299690246582\n",
            "0.5851125216387767\n"
          ]
        }
      ]
    },
    {
      "cell_type": "code",
      "source": [
        "# Evaluate best model\n",
        "print(classification_report(y_test, tune_pred_test))\n",
        "plot_confusion_matrix(\"KNN\",y_test,tune_pred_test)"
      ],
      "metadata": {
        "colab": {
          "base_uri": "https://localhost:8080/",
          "height": 0
        },
        "id": "Hd3j4FhQgob1",
        "outputId": "b8f1f275-3958-4a31-f9d5-1fcfda71799e"
      },
      "execution_count": 87,
      "outputs": [
        {
          "output_type": "stream",
          "name": "stdout",
          "text": [
            "              precision    recall  f1-score   support\n",
            "\n",
            "           0       0.53      0.69      0.60      2339\n",
            "           1       0.66      0.50      0.57      2860\n",
            "\n",
            "    accuracy                           0.59      5199\n",
            "   macro avg       0.60      0.59      0.58      5199\n",
            "weighted avg       0.60      0.59      0.58      5199\n",
            "\n"
          ]
        },
        {
          "output_type": "display_data",
          "data": {
            "text/plain": [
              "<Figure size 360x288 with 2 Axes>"
            ],
            "image/png": "[encoded data removed]"
          },
          "metadata": {}
        }
      ]
    },
    {
      "cell_type": "markdown",
      "metadata": {
        "id": "y3I_C3X4kxjh"
      },
      "source": [
        "### 2.5 Decision tree"
      ]
    },
    {
      "cell_type": "code",
      "source": [
        "# Train using the default model\n",
        "dt = DecisionTreeClassifier()\n",
        "dt.get_params()"
      ],
      "metadata": {
        "colab": {
          "base_uri": "https://localhost:8080/"
        },
        "id": "imRdood9m9Oq",
        "outputId": "f6989412-3635-47a3-fbae-672f77c936ab"
      },
      "execution_count": 63,
      "outputs": [
        {
          "output_type": "execute_result",
          "data": {
            "text/plain": [
              "{'ccp_alpha': 0.0,\n",
              " 'class_weight': None,\n",
              " 'criterion': 'gini',\n",
              " 'max_depth': None,\n",
              " 'max_features': None,\n",
              " 'max_leaf_nodes': None,\n",
              " 'min_impurity_decrease': 0.0,\n",
              " 'min_samples_leaf': 1,\n",
              " 'min_samples_split': 2,\n",
              " 'min_weight_fraction_leaf': 0.0,\n",
              " 'random_state': None,\n",
              " 'splitter': 'best'}"
            ]
          },
          "metadata": {},
          "execution_count": 63
        }
      ]
    },
    {
      "cell_type": "code",
      "source": [
        "# Fit training data to the model and check accuracy\n",
        "dt.fit(xv_train,y_train)\n",
        "dt_pred_train =dt.predict(xv_train)\n",
        "print(classification_report(y_train, dt_pred_train))"
      ],
      "metadata": {
        "colab": {
          "base_uri": "https://localhost:8080/"
        },
        "id": "3MRqyI6JnQ3N",
        "outputId": "442662b8-c838-4dec-f329-d260440efe11"
      },
      "execution_count": 64,
      "outputs": [
        {
          "output_type": "stream",
          "name": "stdout",
          "text": [
            "              precision    recall  f1-score   support\n",
            "\n",
            "           0       1.00      1.00      1.00     10387\n",
            "           1       1.00      1.00      1.00     10409\n",
            "\n",
            "    accuracy                           1.00     20796\n",
            "   macro avg       1.00      1.00      1.00     20796\n",
            "weighted avg       1.00      1.00      1.00     20796\n",
            "\n"
          ]
        }
      ]
    },
    {
      "cell_type": "code",
      "source": [
        "# Apply the model on test dataset and check accuracy\n",
        "dt_pred_test =dt.predict(xv_test)\n",
        "print(classification_report(y_test, dt_pred_test))"
      ],
      "metadata": {
        "colab": {
          "base_uri": "https://localhost:8080/"
        },
        "id": "0WAjLhjXnl6c",
        "outputId": "ff5a963e-b15a-41e9-ef28-8994d43fe014"
      },
      "execution_count": 65,
      "outputs": [
        {
          "output_type": "stream",
          "name": "stdout",
          "text": [
            "              precision    recall  f1-score   support\n",
            "\n",
            "           0       0.58      0.65      0.62      2339\n",
            "           1       0.69      0.62      0.65      2860\n",
            "\n",
            "    accuracy                           0.64      5199\n",
            "   macro avg       0.64      0.64      0.63      5199\n",
            "weighted avg       0.64      0.64      0.64      5199\n",
            "\n"
          ]
        }
      ]
    },
    {
      "cell_type": "code",
      "source": [
        "# Tune the parameters\n",
        "params = {'max_features': [None, 'auto'],\n",
        "              'min_samples_split': [2, 6, 10],\n",
        "              'max_depth' : [None, 15, 50],\n",
        "              'min_samples_leaf':[1,2,6] }\n",
        "\n",
        "tuning_dt = GridSearchCV(DecisionTreeClassifier(), param_grid=params, n_jobs=-1, cv=5, verbose=5)\n",
        "tuning_dt.fit(xv_train, y_train)"
      ],
      "metadata": {
        "colab": {
          "base_uri": "https://localhost:8080/"
        },
        "id": "SaNRQfaYntk8",
        "outputId": "89bcc784-acb9-4a7d-9a4b-2eac30417623"
      },
      "execution_count": 66,
      "outputs": [
        {
          "output_type": "stream",
          "name": "stdout",
          "text": [
            "Fitting 5 folds for each of 54 candidates, totalling 270 fits\n"
          ]
        },
        {
          "output_type": "execute_result",
          "data": {
            "text/plain": [
              "GridSearchCV(cv=5, estimator=DecisionTreeClassifier(), n_jobs=-1,\n",
              "             param_grid={'max_depth': [None, 15, 50],\n",
              "                         'max_features': [None, 'auto'],\n",
              "                         'min_samples_leaf': [1, 2, 6],\n",
              "                         'min_samples_split': [2, 6, 10]},\n",
              "             verbose=5)"
            ]
          },
          "metadata": {},
          "execution_count": 66
        }
      ]
    },
    {
      "cell_type": "code",
      "source": [
        "# Cross-validation metrics\n",
        "print(\"best parameters:\", tuning_dt.best_params_)\n",
        "print(\"Mean test score at best performed model:\", tuning_dt.cv_results_['mean_test_score'][tuning_dt.best_index_])\n",
        "print(\"Standard deviation of test score at best performed model:\",tuning_dt.cv_results_['std_test_score'][tuning_dt.best_index_])"
      ],
      "metadata": {
        "colab": {
          "base_uri": "https://localhost:8080/"
        },
        "id": "Xd2bayRXn8ZL",
        "outputId": "d961523b-5ca8-4571-ca61-387d573d13b0"
      },
      "execution_count": 69,
      "outputs": [
        {
          "output_type": "stream",
          "name": "stdout",
          "text": [
            "best parameters: {'max_depth': 50, 'max_features': None, 'min_samples_leaf': 1, 'min_samples_split': 2}\n",
            "Mean test score at best performed model: 0.9594151931862319\n",
            "Standard deviation of test score at best performed model: 0.0029630678321177313\n"
          ]
        }
      ]
    },
    {
      "cell_type": "code",
      "source": [
        "# Model accuracy on test set\n",
        "tune_pred_test=tuning_dt.predict(xv_test)\n",
        "tune_acc = accuracy_score(y_test, tune_pred_test)\n",
        "print(\"Accuracy score of tuned model:\",tune_acc)\n",
        "if tune_acc < accuracy_score(y_test, dt_pred_test):\n",
        "  print(\"Tuned model performs worse than default model!\")\n",
        "else:\n",
        "  print(\"Tuned model performs better than default model\")"
      ],
      "metadata": {
        "colab": {
          "base_uri": "https://localhost:8080/"
        },
        "id": "z1oM9f9-oBX_",
        "outputId": "a666f9eb-81dd-45c6-edb2-be62b9dc3dc5"
      },
      "execution_count": 68,
      "outputs": [
        {
          "output_type": "stream",
          "name": "stdout",
          "text": [
            "Accuracy score of tuned model: 0.6333910367378341\n",
            "Tuned model performs worse than default model!\n"
          ]
        }
      ]
    },
    {
      "cell_type": "code",
      "source": [
        "# Check overfitting\n",
        "\n",
        "#== max_depth ==#\n",
        "max_depth = [None, 10, 20, 30, 40, 50, 70, 100] \n",
        "train_accuracy = []\n",
        "test_accuracy = []\n",
        "for md in max_depth:\n",
        "  # call dt with different max_depth parameters\n",
        "  model = DecisionTreeClassifier(max_depth = md)\n",
        "  model.fit(xv_train, y_train)\n",
        "  # calculate accuracy score on train data\n",
        "  pred_train = model.predict(xv_train)\n",
        "  train_accuracy.append(accuracy_score(y_train, pred_train))\n",
        "  # calculate accuracy score on test data\n",
        "  pred_test = model.predict(xv_test)\n",
        "  test_accuracy.append(accuracy_score(y_test, pred_test))\n",
        "\n",
        "# Plot accuracy score\n",
        "plt.plot(max_depth, train_accuracy, label = \"Train\")\n",
        "plt.plot(max_depth, test_accuracy, label = \"Validation\")\n",
        "plt.xlabel(\"max_depth\")\n",
        "plt.ylabel(\"Accuracy score\")\n",
        "plt.legend()\n",
        "plt.show()"
      ],
      "metadata": {
        "colab": {
          "base_uri": "https://localhost:8080/",
          "height": 285
        },
        "id": "bofVJP9mZZk5",
        "outputId": "d078173d-3fff-4e7e-cbf1-17652ce7fdcf"
      },
      "execution_count": 70,
      "outputs": [
        {
          "output_type": "display_data",
          "data": {
            "text/plain": [
              "<Figure size 432x288 with 1 Axes>"
            ],
            "image/png": "[encoded data removed]"
          },
          "metadata": {}
        }
      ]
    },
    {
      "cell_type": "code",
      "source": [
        "#== max_features ==#\n",
        "max_features = [None, 'auto', 'sqrt'] \n",
        "train_accuracy = []\n",
        "test_accuracy = []\n",
        "for mf in max_features:\n",
        "  # call dt with different max_features parameters\n",
        "  model = DecisionTreeClassifier(max_features = mf)\n",
        "  model.fit(xv_train, y_train)\n",
        "  # calculate accuracy score on train data\n",
        "  pred_train = model.predict(xv_train)\n",
        "  train_accuracy.append(accuracy_score(y_train, pred_train))\n",
        "  # calculate accuracy score on test data\n",
        "  pred_test = model.predict(xv_test)\n",
        "  test_accuracy.append(accuracy_score(y_test, pred_test))"
      ],
      "metadata": {
        "id": "renswHGyaBad"
      },
      "execution_count": 77,
      "outputs": []
    },
    {
      "cell_type": "code",
      "source": [
        "# Plot accuracy score\n",
        "ind = np.arange(3)\n",
        "width = 0.3\n",
        "fig = plt.figure()\n",
        "ax = fig.add_subplot(111)\n",
        "train_acc = ax.bar(ind, train_accuracy,width)\n",
        "test_acc = ax.bar(ind+width, test_accuracy,width)\n",
        "ax.set_xticks(ind + width / 2)\n",
        "ax.set_xticklabels( ('None', 'auto', 'sqrt') )\n",
        "ax.set_xlabel('max_features')\n",
        "ax.set_ylabel('Accuracy score')\n",
        "ax.legend( (train_acc[0], test_acc[0]), ('Train', 'Validation') )\n",
        "plt.show()"
      ],
      "metadata": {
        "colab": {
          "base_uri": "https://localhost:8080/",
          "height": 285
        },
        "id": "f4M2if-ydi5f",
        "outputId": "1cbd3365-acf8-4054-f972-c4f4841024af"
      },
      "execution_count": 81,
      "outputs": [
        {
          "output_type": "display_data",
          "data": {
            "text/plain": [
              "<Figure size 432x288 with 1 Axes>"
            ],
            "image/png": "[encoded data removed]"
          },
          "metadata": {}
        }
      ]
    },
    {
      "cell_type": "code",
      "source": [
        "#== min_samples_split ==#\n",
        "min_samples_split = [2,4,7,10,15,25] \n",
        "train_accuracy = []\n",
        "test_accuracy = []\n",
        "for mf in min_samples_split:\n",
        "  # call dt with different max_features parameters\n",
        "  model = DecisionTreeClassifier(min_samples_split = mf)\n",
        "  model.fit(xv_train, y_train)\n",
        "  # calculate accuracy score on train data\n",
        "  pred_train = model.predict(xv_train)\n",
        "  train_accuracy.append(accuracy_score(y_train, pred_train))\n",
        "  # calculate accuracy score on test data\n",
        "  pred_test = model.predict(xv_test)\n",
        "  test_accuracy.append(accuracy_score(y_test, pred_test))\n",
        "\n",
        "# Plot accuracy score\n",
        "plt.plot(min_samples_split, train_accuracy, label = \"Train\")\n",
        "plt.plot(min_samples_split, test_accuracy, label = \"Validation\")\n",
        "plt.xlabel(\"min_samples_split\")\n",
        "plt.ylabel(\"Accuracy score\")\n",
        "plt.legend()\n",
        "plt.show()"
      ],
      "metadata": {
        "colab": {
          "base_uri": "https://localhost:8080/",
          "height": 285
        },
        "id": "11AZUOf-a2tA",
        "outputId": "df51a148-04a9-4008-b09f-9b1a3756bdfa"
      },
      "execution_count": 73,
      "outputs": [
        {
          "output_type": "display_data",
          "data": {
            "text/plain": [
              "<Figure size 432x288 with 1 Axes>"
            ],
            "image/png": "[encoded data removed]"
          },
          "metadata": {}
        }
      ]
    },
    {
      "cell_type": "code",
      "source": [
        "#== min_samples_leaf ==#\n",
        "min_samples_leaf = [1,2,4,7,10,15,25] \n",
        "train_accuracy = []\n",
        "test_accuracy = []\n",
        "for msl in min_samples_leaf:\n",
        "  # call dt with different max_features parameters\n",
        "  model = DecisionTreeClassifier(min_samples_leaf = msl)\n",
        "  model.fit(xv_train, y_train)\n",
        "  # calculate accuracy score on train data\n",
        "  pred_train = model.predict(xv_train)\n",
        "  train_accuracy.append(accuracy_score(y_train, pred_train))\n",
        "  # calculate accuracy score on test data\n",
        "  pred_test = model.predict(xv_test)\n",
        "  test_accuracy.append(accuracy_score(y_test, pred_test))\n",
        "\n",
        "# Plot accuracy score\n",
        "plt.plot(min_samples_leaf, train_accuracy, label = \"Train\")\n",
        "plt.plot(min_samples_leaf, test_accuracy, label = \"Validation\")\n",
        "plt.xlabel(\"min_samples_leaf\")\n",
        "plt.ylabel(\"Accuracy score\")\n",
        "plt.legend()\n",
        "plt.show()"
      ],
      "metadata": {
        "colab": {
          "base_uri": "https://localhost:8080/",
          "height": 285
        },
        "id": "ax-u-poXcIK6",
        "outputId": "49904b91-73e4-47e9-803d-34062958a94b"
      },
      "execution_count": 74,
      "outputs": [
        {
          "output_type": "display_data",
          "data": {
            "text/plain": [
              "<Figure size 432x288 with 1 Axes>"
            ],
            "image/png": "[encoded data removed]"
          },
          "metadata": {}
        }
      ]
    },
    {
      "cell_type": "code",
      "source": [
        "# Check running time of the best model\n",
        "start = time.time()\n",
        "best_dt = DecisionTreeClassifier()\n",
        "best_dt.fit(xv_train, y_train)\n",
        "tune_pred_test = best_dt.predict(xv_test)\n",
        "end = time.time()\n",
        "dt_time = end - start\n",
        "dt_acc = accuracy_score(y_test, tune_pred_test)\n",
        "print(dt_time)\n",
        "print(dt_acc)"
      ],
      "metadata": {
        "colab": {
          "base_uri": "https://localhost:8080/"
        },
        "id": "8PNkBoIUoGlI",
        "outputId": "4730f86f-bb0d-4d9d-e04c-ba283d35e2fe"
      },
      "execution_count": 88,
      "outputs": [
        {
          "output_type": "stream",
          "name": "stdout",
          "text": [
            "44.44323515892029\n",
            "0.6362762069628775\n"
          ]
        }
      ]
    },
    {
      "cell_type": "code",
      "source": [
        "# Evaluate best model\n",
        "print(classification_report(y_test, tune_pred_test))\n",
        "plot_confusion_matrix(\"DT\",y_test,tune_pred_test)"
      ],
      "metadata": {
        "colab": {
          "base_uri": "https://localhost:8080/",
          "height": 457
        },
        "id": "U4HiSABug5FE",
        "outputId": "a3c98686-6afa-430b-de05-837534fedd5d"
      },
      "execution_count": 89,
      "outputs": [
        {
          "output_type": "stream",
          "name": "stdout",
          "text": [
            "              precision    recall  f1-score   support\n",
            "\n",
            "           0       0.59      0.66      0.62      2339\n",
            "           1       0.69      0.62      0.65      2860\n",
            "\n",
            "    accuracy                           0.64      5199\n",
            "   macro avg       0.64      0.64      0.64      5199\n",
            "weighted avg       0.64      0.64      0.64      5199\n",
            "\n"
          ]
        },
        {
          "output_type": "display_data",
          "data": {
            "text/plain": [
              "<Figure size 360x288 with 2 Axes>"
            ],
            "image/png": "[encoded data removed]"
          },
          "metadata": {}
        }
      ]
    },
    {
      "cell_type": "markdown",
      "source": [
        "## **3. Summary**"
      ],
      "metadata": {
        "id": "RqTu7wcrm5Xx"
      }
    },
    {
      "cell_type": "code",
      "source": [
        "# Extract data to plot\n",
        "model_name = [\"SVM\", \"NB\", \"LR\",\"KNN\", \"DT\"]\n",
        "accuracy_list = [round(svm_acc,2), round(nb_acc,2), round(lr_acc,2),round(knn_acc,2), round(dt_acc,2)] \n",
        "run_time_list = [round(svm_time,2), round(nb_time,2), round(lr_time,2),round(knn_time,2), round(dt_time,2)] \n",
        "\n",
        "# Create summary table\n",
        "summary = pd.DataFrame(list(zip(model_name, accuracy_list,run_time_list)),\n",
        "               columns =['Model', 'Accuracy score','Running time'])\n",
        "summary"
      ],
      "metadata": {
        "colab": {
          "base_uri": "https://localhost:8080/",
          "height": 206
        },
        "id": "jANSyRgCs2JD",
        "outputId": "bebb11d2-bc8d-4a38-dee6-2a72b1446aad"
      },
      "execution_count": 145,
      "outputs": [
        {
          "output_type": "execute_result",
          "data": {
            "text/plain": [
              "  Model  Accuracy score  Running time\n",
              "0   SVM            0.70         59.12\n",
              "1    NB            0.84          0.11\n",
              "2    LR            0.70          1.53\n",
              "3   KNN            0.59         20.77\n",
              "4    DT            0.64         44.44"
            ],
            "text/html": [
              "\n",
              "  <div id=\"df-6033eebf-116c-4afa-936b-92cf794a31cf\">\n",
              "    <div class=\"colab-df-container\">\n",
              "      <div>\n",
              "<style scoped>\n",
              "    .dataframe tbody tr th:only-of-type {\n",
              "        vertical-align: middle;\n",
              "    }\n",
              "\n",
              "    .dataframe tbody tr th {\n",
              "        vertical-align: top;\n",
              "    }\n",
              "\n",
              "    .dataframe thead th {\n",
              "        text-align: right;\n",
              "    }\n",
              "</style>\n",
              "<table border=\"1\" class=\"dataframe\">\n",
              "  <thead>\n",
              "    <tr style=\"text-align: right;\">\n",
              "      <th></th>\n",
              "      <th>Model</th>\n",
              "      <th>Accuracy score</th>\n",
              "      <th>Running time</th>\n",
              "    </tr>\n",
              "  </thead>\n",
              "  <tbody>\n",
              "    <tr>\n",
              "      <th>0</th>\n",
              "      <td>SVM</td>\n",
              "      <td>0.70</td>\n",
              "      <td>59.12</td>\n",
              "    </tr>\n",
              "    <tr>\n",
              "      <th>1</th>\n",
              "      <td>NB</td>\n",
              "      <td>0.84</td>\n",
              "      <td>0.11</td>\n",
              "    </tr>\n",
              "    <tr>\n",
              "      <th>2</th>\n",
              "      <td>LR</td>\n",
              "      <td>0.70</td>\n",
              "      <td>1.53</td>\n",
              "    </tr>\n",
              "    <tr>\n",
              "      <th>3</th>\n",
              "      <td>KNN</td>\n",
              "      <td>0.59</td>\n",
              "      <td>20.77</td>\n",
              "    </tr>\n",
              "    <tr>\n",
              "      <th>4</th>\n",
              "      <td>DT</td>\n",
              "      <td>0.64</td>\n",
              "      <td>44.44</td>\n",
              "    </tr>\n",
              "  </tbody>\n",
              "</table>\n",
              "</div>\n",
              "      <button class=\"colab-df-convert\" onclick=\"convertToInteractive('df-6033eebf-116c-4afa-936b-92cf794a31cf')\"\n",
              "              title=\"Convert this dataframe to an interactive table.\"\n",
              "              style=\"display:none;\">\n",
              "        \n",
              "  <svg xmlns=\"http://www.w3.org/2000/svg\" height=\"24px\"viewBox=\"0 0 24 24\"\n",
              "       width=\"24px\">\n",
              "    <path d=\"M0 0h24v24H0V0z\" fill=\"none\"/>\n",
              "    <path d=\"M18.56 5.44l.94 2.06.94-2.06 2.06-.94-2.06-.94-.94-2.06-.94 2.06-2.06.94zm-11 1L8.5 8.5l.94-2.06 2.06-.94-2.06-.94L8.5 2.5l-.94 2.06-2.06.94zm10 10l.94 2.06.94-2.06 2.06-.94-2.06-.94-.94-2.06-.94 2.06-2.06.94z\"/><path d=\"M17.41 7.96l-1.37-1.37c-.4-.4-.92-.59-1.43-.59-.52 0-1.04.2-1.43.59L10.3 9.45l-7.72 7.72c-.78.78-.78 2.05 0 2.83L4 21.41c.39.39.9.59 1.41.59.51 0 1.02-.2 1.41-.59l7.78-7.78 2.81-2.81c.8-.78.8-2.07 0-2.86zM5.41 20L4 18.59l7.72-7.72 1.47 1.35L5.41 20z\"/>\n",
              "  </svg>\n",
              "      </button>\n",
              "      \n",
              "  <style>\n",
              "    .colab-df-container {\n",
              "      display:flex;\n",
              "      flex-wrap:wrap;\n",
              "      gap: 12px;\n",
              "    }\n",
              "\n",
              "    .colab-df-convert {\n",
              "      background-color: #E8F0FE;\n",
              "      border: none;\n",
              "      border-radius: 50%;\n",
              "      cursor: pointer;\n",
              "      display: none;\n",
              "      fill: #1967D2;\n",
              "      height: 32px;\n",
              "      padding: 0 0 0 0;\n",
              "      width: 32px;\n",
              "    }\n",
              "\n",
              "    .colab-df-convert:hover {\n",
              "      background-color: #E2EBFA;\n",
              "      box-shadow: 0px 1px 2px rgba(60, 64, 67, 0.3), 0px 1px 3px 1px rgba(60, 64, 67, 0.15);\n",
              "      fill: #174EA6;\n",
              "    }\n",
              "\n",
              "    [theme=dark] .colab-df-convert {\n",
              "      background-color: #3B4455;\n",
              "      fill: #D2E3FC;\n",
              "    }\n",
              "\n",
              "    [theme=dark] .colab-df-convert:hover {\n",
              "      background-color: #434B5C;\n",
              "      box-shadow: 0px 1px 3px 1px rgba(0, 0, 0, 0.15);\n",
              "      filter: drop-shadow(0px 1px 2px rgba(0, 0, 0, 0.3));\n",
              "      fill: #FFFFFF;\n",
              "    }\n",
              "  </style>\n",
              "\n",
              "      <script>\n",
              "        const buttonEl =\n",
              "          document.querySelector('#df-6033eebf-116c-4afa-936b-92cf794a31cf button.colab-df-convert');\n",
              "        buttonEl.style.display =\n",
              "          google.colab.kernel.accessAllowed ? 'block' : 'none';\n",
              "\n",
              "        async function convertToInteractive(key) {\n",
              "          const element = document.querySelector('#df-6033eebf-116c-4afa-936b-92cf794a31cf');\n",
              "          const dataTable =\n",
              "            await google.colab.kernel.invokeFunction('convertToInteractive',\n",
              "                                                     [key], {});\n",
              "          if (!dataTable) return;\n",
              "\n",
              "          const docLinkHtml = 'Like what you see? Visit the ' +\n",
              "            '<a target=\"_blank\" href=https://colab.research.google.com/notebooks/data_table.ipynb>data table notebook</a>'\n",
              "            + ' to learn more about interactive tables.';\n",
              "          element.innerHTML = '';\n",
              "          dataTable['output_type'] = 'display_data';\n",
              "          await google.colab.output.renderOutput(dataTable, element);\n",
              "          const docLink = document.createElement('div');\n",
              "          docLink.innerHTML = docLinkHtml;\n",
              "          element.appendChild(docLink);\n",
              "        }\n",
              "      </script>\n",
              "    </div>\n",
              "  </div>\n",
              "  "
            ]
          },
          "metadata": {},
          "execution_count": 145
        }
      ]
    },
    {
      "cell_type": "code",
      "source": [
        "# create function add values on top of charts\n",
        "def addlabels(x,y):\n",
        "    for i in range(len(x)):\n",
        "        ax = plt.text(i,y[i],y[i])\n",
        "\n",
        "# create plot figures\n",
        "fig, ax = plt.subplots(figsize = (10, 5))\n",
        "plt.title('Accuracy score & running time by model')\n",
        "\n",
        "# plot the accuracy score\n",
        "addlabels(model_name, accuracy_list)\n",
        "ax.bar(model_name, accuracy_list, color = 'b')\n",
        "ax.set_frame_on(False)\n",
        "ax.legend([\"accuracy score\"], loc =4)\n",
        "ax.set_xlabel('models')\n",
        "ax.set(yticklabels=[])\n",
        "ax.grid(False)\n",
        "\n",
        "# using the twinx() to create another axes object for running time\n",
        "ax2 = ax.twinx()\n",
        "ax2.plot(model_name, run_time_list, color = 'orange',linewidth = 3)\n",
        "addlabels(model_name, run_time_list)\n",
        "ax2.set_frame_on(False)\n",
        "ax2.legend([\"running time\"], loc =1)\n",
        "ax2.set(yticklabels=[])\n",
        "ax2.grid(False)\n",
        " \n",
        "# show the plot\n",
        "plt.tight_layout()\n",
        "plt.show()"
      ],
      "metadata": {
        "colab": {
          "base_uri": "https://localhost:8080/",
          "height": 365
        },
        "id": "4eOSVYERl3n0",
        "outputId": "8f5e2dd1-f21e-45b7-d05f-f40845e87412"
      },
      "execution_count": 146,
      "outputs": [
        {
          "output_type": "display_data",
          "data": {
            "text/plain": [
              "<Figure size 720x360 with 2 Axes>"
            ],
            "image/png": "[encoded data removed]"
          },
          "metadata": {}
        }
      ]
    }
  ],
  "metadata": {
    "colab": {
      "provenance": [],
      "collapsed_sections": [
        "8O604QwwWG_M",
        "GpaT1QGypov4",
        "4vHBllgdWziK",
        "hBj14ou7UgHq",
        "eGot6SEGkoGx",
        "uXuCVfwRktHT",
        "qtSMZLTUURK6",
        "y3I_C3X4kxjh",
        "RqTu7wcrm5Xx"
      ]
    },
    "kernelspec": {
      "display_name": "Python 3",
      "name": "python3"
    },
    "language_info": {
      "name": "python"
    }
  },
  "nbformat": 4,
  "nbformat_minor": 0
}